{
 "cells": [
  {
   "cell_type": "code",
   "execution_count": null,
   "metadata": {},
   "outputs": [],
   "source": [
    "%matplotlib inline\n",
    "import keras\n",
    "from keras.layers import *\n",
    "from keras.models import *\n",
    "from keras.optimizers import *\n",
    "import mido\n",
    "import numpy\n",
    "import pandas\n",
    "import skimage.io"
   ]
  },
  {
   "cell_type": "code",
   "execution_count": null,
   "metadata": {},
   "outputs": [],
   "source": [
    "notes = 24"
   ]
  },
  {
   "cell_type": "code",
   "execution_count": null,
   "metadata": {},
   "outputs": [],
   "source": [
    "input_layer = Input((24, 1))\n",
    "x = Conv1D(24, 3, padding='same')(input_layer)\n",
    "x = MaxPool1D(2)(x)\n",
    "x = Conv1D(12, 3, padding='same')(x)\n",
    "x = MaxPool1D(2)(x)\n",
    "x = Conv1D(6, 3, padding='same')(x)\n",
    "x = MaxPool1D(2)(x)\n",
    "x = Conv1D(3, 3, padding='same')(x)\n",
    "x = Activation('sigmoid')(x) # encoded\n",
    "x = UpSampling1D(2)(x)\n",
    "x = Conv1D(6, 3, padding='same')(x)\n",
    "x = UpSampling1D(2)(x)\n",
    "x = Conv1D(12, 3, padding='same')(x)\n",
    "x = UpSampling1D(2)(x)\n",
    "x = Conv1D(1, 3, padding='same')(x)\n",
    "output_layer = Activation('sigmoid')(x)\n",
    "model = Model(input_layer, output_layer)\n",
    "model.compile(loss='binary_crossentropy', optimizer=Adam(lr=0.0001), metrics=['acc'])\n",
    "model.summary()"
   ]
  },
  {
   "cell_type": "code",
   "execution_count": null,
   "metadata": {},
   "outputs": [],
   "source": [
    "#x = numpy.random.randint(2, size=(32, 36, 1))"
   ]
  },
  {
   "cell_type": "code",
   "execution_count": null,
   "metadata": {},
   "outputs": [],
   "source": [
    "#x"
   ]
  },
  {
   "cell_type": "code",
   "execution_count": null,
   "metadata": {},
   "outputs": [],
   "source": [
    "#model.fit(x, x, epochs=10000)"
   ]
  },
  {
   "cell_type": "code",
   "execution_count": null,
   "metadata": {},
   "outputs": [],
   "source": [
    "#preds = numpy.round(model.predict(x)).astype(int)"
   ]
  },
  {
   "cell_type": "code",
   "execution_count": null,
   "metadata": {},
   "outputs": [],
   "source": [
    "#preds"
   ]
  },
  {
   "cell_type": "code",
   "execution_count": null,
   "metadata": {},
   "outputs": [],
   "source": []
  },
  {
   "cell_type": "code",
   "execution_count": null,
   "metadata": {},
   "outputs": [],
   "source": [
    "#encoded = numpy.round(truncated.predict(x)).astype(int)"
   ]
  },
  {
   "cell_type": "code",
   "execution_count": null,
   "metadata": {},
   "outputs": [],
   "source": [
    "#skimage.io.imshow(encoded[17])"
   ]
  },
  {
   "cell_type": "code",
   "execution_count": null,
   "metadata": {},
   "outputs": [],
   "source": [
    "major = [0, 4, 7, 12]\n",
    "minor = [0, 3, 7, 12]\n",
    "diminished = [0, 3, 6, 12]\n",
    "diminished7 = [0, 3, 6, 9]\n",
    "augmented = [0, 4, 8, 12]\n",
    "dominant7 = [0, 4, 7, 10]\n",
    "minor7 = [0, 3, 7, 10]\n",
    "major7 = [0, 4, 7, 11]"
   ]
  },
  {
   "cell_type": "code",
   "execution_count": null,
   "metadata": {},
   "outputs": [],
   "source": [
    "def transpose(chords):\n",
    "    data = []\n",
    "    for chord in chords:\n",
    "        for i in range(12):\n",
    "            data.append(chord + i)\n",
    "    return numpy.array(data)"
   ]
  },
  {
   "cell_type": "code",
   "execution_count": null,
   "metadata": {},
   "outputs": [],
   "source": [
    "def prepare(chords):\n",
    "    data = []\n",
    "    for chord in chords:\n",
    "        array = numpy.zeros((24, 1))\n",
    "        for note in chord:\n",
    "            array[note, 0] = 1\n",
    "        data.append(array)\n",
    "    return numpy.array(data)"
   ]
  },
  {
   "cell_type": "code",
   "execution_count": null,
   "metadata": {},
   "outputs": [],
   "source": [
    "def get_meta(names, chords):\n",
    "    assert len(names) == len(chords)\n",
    "    meta = []\n",
    "    for i, chord in enumerate(chords):\n",
    "        for j in range(12):\n",
    "            meta.append([names[i], j])\n",
    "    return meta"
   ]
  },
  {
   "cell_type": "code",
   "execution_count": null,
   "metadata": {},
   "outputs": [],
   "source": [
    "meta = get_meta(['major', 'minor', 'diminished', 'diminished7', 'augmented', 'dominant7', 'minor7', 'major7'], [major, minor, diminished, diminished7, augmented, dominant7, minor7, major7])"
   ]
  },
  {
   "cell_type": "code",
   "execution_count": null,
   "metadata": {},
   "outputs": [],
   "source": [
    "transposed = transpose(numpy.array([major, minor, diminished, diminished7, augmented, dominant7, minor7, major7]))"
   ]
  },
  {
   "cell_type": "code",
   "execution_count": null,
   "metadata": {},
   "outputs": [],
   "source": [
    "prepared = prepare(transposed)"
   ]
  },
  {
   "cell_type": "code",
   "execution_count": null,
   "metadata": {},
   "outputs": [],
   "source": [
    "model.fit(prepared, prepared, epochs=10000)"
   ]
  },
  {
   "cell_type": "code",
   "execution_count": null,
   "metadata": {},
   "outputs": [],
   "source": [
    "input2 = Input((24, 1))\n",
    "x2 = Conv1D(24, 3, padding='same', weights=model.layers[1].get_weights())(input2)\n",
    "x2 = MaxPool1D(2)(x2)\n",
    "x2 = Conv1D(12, 3, padding='same', weights=model.layers[3].get_weights())(x2)\n",
    "x2 = MaxPool1D(2)(x2)\n",
    "x2 = Conv1D(6, 3, padding='same', weights=model.layers[5].get_weights())(x2)\n",
    "x2 = MaxPool1D(2)(x2)\n",
    "x2 = Conv1D(3, 3, padding='same', weights=model.layers[7].get_weights())(x2)\n",
    "output2 = Activation('sigmoid')(x2)\n",
    "truncated = Model(input2, output2)\n",
    "truncated.compile(loss='binary_crossentropy', optimizer=Adam(lr=0.0001), metrics=['acc'])\n",
    "truncated.summary()"
   ]
  },
  {
   "cell_type": "code",
   "execution_count": null,
   "metadata": {},
   "outputs": [],
   "source": [
    "features = truncated.predict(prepared)\n",
    "flattened = numpy.empty((len(features), 9))\n",
    "for i, feature in enumerate(features):\n",
    "    flattened[i, :] = feature.flatten()"
   ]
  },
  {
   "cell_type": "code",
   "execution_count": null,
   "metadata": {},
   "outputs": [],
   "source": [
    "skimage.io.imshow(features[0, numpy.newaxis])"
   ]
  },
  {
   "cell_type": "code",
   "execution_count": null,
   "metadata": {},
   "outputs": [],
   "source": [
    "datadf = pandas.DataFrame(flattened)"
   ]
  },
  {
   "cell_type": "code",
   "execution_count": null,
   "metadata": {},
   "outputs": [],
   "source": [
    "datadf"
   ]
  },
  {
   "cell_type": "code",
   "execution_count": null,
   "metadata": {},
   "outputs": [],
   "source": [
    "metadf = pandas.DataFrame(data=meta, columns=['Chord', 'Transposition'])"
   ]
  },
  {
   "cell_type": "code",
   "execution_count": null,
   "metadata": {},
   "outputs": [],
   "source": [
    "metadf"
   ]
  },
  {
   "cell_type": "code",
   "execution_count": null,
   "metadata": {},
   "outputs": [],
   "source": [
    "df = pandas.concat([metadf, datadf], axis=1)"
   ]
  },
  {
   "cell_type": "code",
   "execution_count": null,
   "metadata": {},
   "outputs": [],
   "source": [
    "df"
   ]
  },
  {
   "cell_type": "code",
   "execution_count": null,
   "metadata": {},
   "outputs": [],
   "source": [
    "#df.to_csv('/home/santiago/Projects/MusicGenerator/csv/chords.csv', index=False)"
   ]
  },
  {
   "cell_type": "code",
   "execution_count": null,
   "metadata": {},
   "outputs": [],
   "source": [
    "df.to_csv('/home/santiago/Projects/MusicGenerator/csv/chords.txt', sep='\\t', index=False)"
   ]
  },
  {
   "cell_type": "code",
   "execution_count": null,
   "metadata": {},
   "outputs": [],
   "source": []
  }
 ],
 "metadata": {
  "kernelspec": {
   "display_name": "Python 3",
   "language": "python",
   "name": "python3"
  },
  "language_info": {
   "codemirror_mode": {
    "name": "ipython",
    "version": 3
   },
   "file_extension": ".py",
   "mimetype": "text/x-python",
   "name": "python",
   "nbconvert_exporter": "python",
   "pygments_lexer": "ipython3",
   "version": "3.6.3"
  }
 },
 "nbformat": 4,
 "nbformat_minor": 2
}
