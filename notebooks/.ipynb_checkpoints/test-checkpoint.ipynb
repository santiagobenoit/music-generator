{
 "cells": [
  {
   "cell_type": "code",
   "execution_count": 1,
   "metadata": {},
   "outputs": [
    {
     "name": "stderr",
     "output_type": "stream",
     "text": [
      "Using TensorFlow backend.\n"
     ]
    }
   ],
   "source": [
    "%matplotlib inline\n",
    "import glob\n",
    "import keras\n",
    "from keras.layers import *\n",
    "from keras.models import *\n",
    "from keras.optimizers import *\n",
    "from keras import backend as K\n",
    "from keras import metrics\n",
    "import mido\n",
    "import numpy\n",
    "from seya.layers.variational import *\n",
    "import skimage.io"
   ]
  },
  {
   "cell_type": "code",
   "execution_count": null,
   "metadata": {},
   "outputs": [],
   "source": []
  },
  {
   "cell_type": "code",
   "execution_count": null,
   "metadata": {},
   "outputs": [],
   "source": [
    "notes = 36\n",
    "lookback = 32"
   ]
  },
  {
   "cell_type": "code",
   "execution_count": null,
   "metadata": {},
   "outputs": [],
   "source": [
    "# input_vector = Input((None, notes))\n",
    "# input_layer = TimeDistributed(Dense(notes, activation='sigmoid'))(input_vector)\n",
    "# previous_layer = input_layer\n",
    "# for units in reversed(range(notes // 6, notes + 1, 4)):\n",
    "#     hidden_layer = Bidirectional(LSTM(units, return_sequences=True, recurrent_dropout=0.5), merge_mode='concat')(previous_layer)\n",
    "#     previous_layer = hidden_layer\n",
    "# middle_layer = TimeDistributed(Dense(notes // 6, activation='sigmoid'))(previous_layer)\n",
    "# previous_layer = middle_layer\n",
    "# for units in range(notes // 6, notes + 1, 4):\n",
    "#     hidden_layer = Bidirectional(LSTM(units, return_sequences=True, recurrent_dropout=0.5), merge_mode='concat')(previous_layer)\n",
    "#     previous_layer = hidden_layer\n",
    "# output_layer = TimeDistributed(Dense(notes, activation='sigmoid'))(previous_layer)\n",
    "# model = Model(input_vector, output_layer)\n",
    "# model.compile(loss='binary_crossentropy', optimizer='adam', metrics=['acc'])"
   ]
  },
  {
   "cell_type": "code",
   "execution_count": null,
   "metadata": {},
   "outputs": [],
   "source": [
    "# input_size = 1 + notes + 8 + 16\n",
    "# input_layer = Input((None, input_size))\n",
    "# previous_layer = input_layer\n",
    "# for units in reversed(range(input_size // 6, input_size + 1, 8)):\n",
    "#     hidden_layer = Bidirectional(LSTM(units, return_sequences=True, recurrent_dropout=0.5), merge_mode='concat')(previous_layer)\n",
    "#     previous_layer = hidden_layer\n",
    "# middle_layer = TimeDistributed(Activation('sigmoid'))(previous_layer)\n",
    "# previous_layer = middle_layer\n",
    "# for units in range(input_size // 6, input_size + 1, 8):\n",
    "#     hidden_layer = Bidirectional(LSTM(units, return_sequences=True, recurrent_dropout=0.5), merge_mode='concat')(previous_layer)\n",
    "#     previous_layer = hidden_layer\n",
    "# output_layer = TimeDistributed(Dense(input_size, activation='sigmoid'))(previous_layer)\n",
    "# model = Model(input_layer, output_layer)\n",
    "# model.compile(loss='binary_crossentropy', optimizer=Adam(lr=0.0001), metrics=['acc'])"
   ]
  },
  {
   "cell_type": "code",
   "execution_count": null,
   "metadata": {},
   "outputs": [],
   "source": []
  },
  {
   "cell_type": "code",
   "execution_count": null,
   "metadata": {},
   "outputs": [],
   "source": [
    "# model.summary()"
   ]
  },
  {
   "cell_type": "code",
   "execution_count": null,
   "metadata": {},
   "outputs": [],
   "source": [
    "# x = numpy.zeros((1, 16, 57), dtype=int)\n",
    "# for i in range(16):\n",
    "#     x[:, i, i:i+4] = 1"
   ]
  },
  {
   "cell_type": "code",
   "execution_count": null,
   "metadata": {},
   "outputs": [],
   "source": [
    "# x"
   ]
  },
  {
   "cell_type": "code",
   "execution_count": null,
   "metadata": {},
   "outputs": [],
   "source": [
    "# y = numpy.invert(numpy.roll(x, -1, axis=1)) + 2"
   ]
  },
  {
   "cell_type": "code",
   "execution_count": null,
   "metadata": {},
   "outputs": [],
   "source": [
    "# y"
   ]
  },
  {
   "cell_type": "code",
   "execution_count": null,
   "metadata": {},
   "outputs": [],
   "source": [
    "# model.fit(x, y, epochs=10000)"
   ]
  },
  {
   "cell_type": "code",
   "execution_count": null,
   "metadata": {},
   "outputs": [],
   "source": [
    "# numpy.round(model.predict(x)).astype(int)"
   ]
  },
  {
   "cell_type": "code",
   "execution_count": null,
   "metadata": {},
   "outputs": [],
   "source": []
  },
  {
   "cell_type": "code",
   "execution_count": null,
   "metadata": {},
   "outputs": [],
   "source": [
    "# midi = mido.MidiFile('/home/santiago/Projects/MusicGenerator/data/midi/6.mid')"
   ]
  },
  {
   "cell_type": "code",
   "execution_count": null,
   "metadata": {},
   "outputs": [],
   "source": [
    "# test = []\n",
    "# for track in midi.tracks:\n",
    "#     if track.name == 'Melody':\n",
    "#         for message in track:\n",
    "#             test.append(message)\n",
    "# len(test)"
   ]
  },
  {
   "cell_type": "code",
   "execution_count": null,
   "metadata": {},
   "outputs": [],
   "source": [
    "def chords_from_midi(midi_file):\n",
    "    data = []\n",
    "    midi = mido.MidiFile(midi_file)\n",
    "    for track in midi.tracks:\n",
    "        if track.name == 'Chords':\n",
    "            for message in track:\n",
    "                if message.type in ['note_on', 'note_off']:\n",
    "                    data.append((1 if message.type == 'note_on' else 0, message.note, message.velocity, message.time))\n",
    "    assert data\n",
    "    return numpy.array(data)\n",
    "\n",
    "\n",
    "def encode_chords(chords):\n",
    "    data = []\n",
    "    minimum = min(chords[:, 1])\n",
    "    prev_type = None\n",
    "    prev_veloc = None\n",
    "    encoded = None\n",
    "    for chord in chords:\n",
    "        if prev_type != chord[0] or prev_veloc != chord[2] or chord[3] != 0:\n",
    "            if encoded is not None:\n",
    "                data.append(encoded)\n",
    "            encoded = numpy.zeros((1 + notes + 8 + 16,))\n",
    "            encoded[0] = chord[0]\n",
    "            encoded[1 + notes:1 + notes + 8] = [int(x) for x in format(chord[2], '08b')]\n",
    "            encoded[1 + notes + 8:1 + notes + 8 + 16] = [int(x) for x in format(chord[3], '016b')]\n",
    "        encoded[1 + chord[1] - minimum] = 1\n",
    "        prev_type = chord[0]\n",
    "        prev_veloc = chord[2]\n",
    "    return numpy.array(data)\n",
    "\n",
    "\n",
    "def load_chords(midi_dir):\n",
    "    progressions = []\n",
    "    midi_files = sorted(glob.glob(os.path.join(midi_dir, '*.mid')) + glob.glob(os.path.join(midi_dir, '*.midi')))\n",
    "    for midi_file in midi_files:\n",
    "        try:\n",
    "            chords = chords_from_midi(midi_file)\n",
    "            encoded = encode_chords(chords)\n",
    "            prepared = input_output(encoded)\n",
    "            progressions.append(prepared)\n",
    "        except (KeyboardInterrupt, SystemExit):\n",
    "            raise\n",
    "        except:\n",
    "            print(\"Skipping\", midi_file)\n",
    "    return progressions\n",
    "\n",
    "def input_output(sequence):\n",
    "    x = []\n",
    "    y = []\n",
    "    for i in range(len(sequence)):\n",
    "        if i == 0:\n",
    "            x.append(numpy.zeros((1, 1, 1 + notes + 8 + 16)).astype(int))\n",
    "        elif i < lookback:\n",
    "            x.append(numpy.vstack([numpy.zeros((1, 1 + notes + 8 + 16)), sequence[:i, :]])[numpy.newaxis, :, :].astype(int))\n",
    "        else:\n",
    "            x.append(numpy.vstack([numpy.zeros((1, 1 + notes + 8 + 16)), sequence[i - lookback:i, :]])[numpy.newaxis, :, :].astype(int))\n",
    "        y.append(sequence[numpy.newaxis, i, :].astype(int))\n",
    "    return (x, y)\n",
    "\n",
    "def generator(data):\n",
    "    while True:\n",
    "        for sequence in data:\n",
    "            for i in range(len(sequence[0])):\n",
    "                yield (sequence[0][i], sequence[1][i])"
   ]
  },
  {
   "cell_type": "code",
   "execution_count": null,
   "metadata": {},
   "outputs": [],
   "source": [
    "# data = chords_from_midi('/home/santiago/Projects/MusicGenerator/data/midi/6.mid')"
   ]
  },
  {
   "cell_type": "code",
   "execution_count": null,
   "metadata": {},
   "outputs": [],
   "source": [
    "# data"
   ]
  },
  {
   "cell_type": "code",
   "execution_count": null,
   "metadata": {},
   "outputs": [],
   "source": [
    "# X = encode_chords(data)"
   ]
  },
  {
   "cell_type": "code",
   "execution_count": null,
   "metadata": {},
   "outputs": [],
   "source": [
    "# for a in x:\n",
    "#     print(a)"
   ]
  },
  {
   "cell_type": "code",
   "execution_count": null,
   "metadata": {},
   "outputs": [],
   "source": [
    "# train_data = input_output(X)"
   ]
  },
  {
   "cell_type": "code",
   "execution_count": null,
   "metadata": {},
   "outputs": [],
   "source": [
    "# train_data[0][4]"
   ]
  },
  {
   "cell_type": "code",
   "execution_count": null,
   "metadata": {},
   "outputs": [],
   "source": [
    "# input_size = 1 + notes + 8 + 16\n",
    "# input_layer = Input((None, input_size))\n",
    "# x = Bidirectional(LSTM(128, return_sequences=True, recurrent_dropout=0.5), merge_mode='concat')(input_layer)\n",
    "# x = Conv1D(128, 3, padding='causal')(x)\n",
    "# x = Bidirectional(LSTM(64, return_sequences=True, recurrent_dropout=0.5), merge_mode='concat')(x)\n",
    "# x = Conv1D(64, 3, padding='causal')(x)\n",
    "# x = Bidirectional(LSTM(32, return_sequences=True, recurrent_dropout=0.5), merge_mode='concat')(x)\n",
    "# x = Conv1D(32, 3, padding='causal')(x)\n",
    "# x = Bidirectional(LSTM(16, return_sequences=True, recurrent_dropout=0.5), merge_mode='concat')(x)\n",
    "# x = Conv1D(16, 3, padding='causal')(x)\n",
    "# middle_layer = TimeDistributed(Activation('sigmoid'))(x)\n",
    "# x = Conv1D(32, 3, padding='causal')(middle_layer)\n",
    "# x = Bidirectional(LSTM(32, return_sequences=True, recurrent_dropout=0.5), merge_mode='concat')(x)\n",
    "# x = Conv1D(64, 3, padding='causal')(x)\n",
    "# x = Bidirectional(LSTM(64, return_sequences=True, recurrent_dropout=0.5), merge_mode='concat')(x)\n",
    "# output_layer = TimeDistributed(Dense(input_size, activation='sigmoid'))(x)\n",
    "# model = Model(input_layer, output_layer)\n",
    "# model.compile(loss='binary_crossentropy', optimizer=Adam(lr=0.0001), metrics=['acc'])"
   ]
  },
  {
   "cell_type": "code",
   "execution_count": null,
   "metadata": {},
   "outputs": [],
   "source": [
    "# input_size = 1 + notes + 8 + 16\n",
    "# input_layer = Input((256, input_size))\n",
    "# x = Bidirectional(LSTM(256, recurrent_dropout=0.5, return_sequences=True), merge_mode='concat')(input_layer)\n",
    "# # x = Conv1D(64, 3, padding='causal')(x)\n",
    "# # x = MaxPool1D(2)(x)\n",
    "# # x = Conv1D(64, 3, padding='causal')(x)\n",
    "# # x = MaxPool1D(2)(x)\n",
    "# # x = Conv1D(64, 3, padding='causal')(x)\n",
    "# # x = MaxPool1D(2)(x)\n",
    "# # x = Conv1D(64, 3, padding='causal')(x)\n",
    "# # x = MaxPool1D(2)(x)\n",
    "# # x = Conv1D(64, 3, padding='causal')(x)\n",
    "# # x = MaxPool1D(2)(x)\n",
    "# # x = Conv1D(64, 3, padding='causal')(x)\n",
    "# # x = MaxPool1D(2)(x)\n",
    "# # x = Conv1D(64, 3, padding='causal')(x)\n",
    "# # x = MaxPool1D(2)(x)\n",
    "# # x = Conv1D(64, 3, padding='causal')(x)\n",
    "# # x = MaxPool1D(2)(x)\n",
    "# # x = Conv1D(64, 3, padding='causal')(x)\n",
    "# # x = Flatten()(x)\n",
    "# x = Bidirectional(LSTM(256, recurrent_dropout=0.5), merge_mode='concat')(input_layer)\n",
    "# output_layer = Dense(input_size, activation='sigmoid')(x)\n",
    "# model = Model(input_layer, output_layer)\n",
    "# model.compile(loss='binary_crossentropy', optimizer=Adam(lr=0.0001), metrics=['acc'])"
   ]
  },
  {
   "cell_type": "code",
   "execution_count": null,
   "metadata": {},
   "outputs": [],
   "source": [
    "# model.summary()"
   ]
  },
  {
   "cell_type": "code",
   "execution_count": null,
   "metadata": {},
   "outputs": [],
   "source": [
    "# model.fit_generator(generator(train_data), 128, 128)"
   ]
  },
  {
   "cell_type": "code",
   "execution_count": null,
   "metadata": {},
   "outputs": [],
   "source": [
    "# test = numpy.round(model.predict(X[numpy.newaxis, :, :])).astype(int)"
   ]
  },
  {
   "cell_type": "code",
   "execution_count": null,
   "metadata": {},
   "outputs": [],
   "source": [
    "# test[:, :, 1:37]"
   ]
  },
  {
   "cell_type": "code",
   "execution_count": null,
   "metadata": {},
   "outputs": [],
   "source": [
    "data = load_chords('/home/santiago/Projects/MusicGenerator/data/midi/')"
   ]
  },
  {
   "cell_type": "code",
   "execution_count": null,
   "metadata": {},
   "outputs": [],
   "source": [
    "data"
   ]
  },
  {
   "cell_type": "code",
   "execution_count": null,
   "metadata": {},
   "outputs": [],
   "source": [
    "input_size = 1 + notes + 8 + 16"
   ]
  },
  {
   "cell_type": "code",
   "execution_count": null,
   "metadata": {},
   "outputs": [],
   "source": [
    "# input_layer = Input((None, input_size))\n",
    "# x = Bidirectional(LSTM(128, return_sequences=True))(input_layer)\n",
    "# x = Dropout(0.5)(x)\n",
    "# x = TimeDistributed(Reshape((16, 16, 1)))(x)\n",
    "# x = ConvLSTM2D(1, (3, 3), padding='same', return_sequences=True)(x)\n",
    "# x = Activation('relu')(x)\n",
    "# x = TimeDistributed(MaxPool2D(2))(x)\n",
    "# x = ConvLSTM2D(1, (3, 3), return_sequences=False)(x)\n",
    "# x = Activation('relu')(x)\n",
    "# x = Flatten()(x)\n",
    "# output_layer = Dense(input_size, activation='sigmoid')(x)\n",
    "# model = Model(input_layer, output_layer)\n",
    "# model.compile(optimizer=Adam(lr=0.0001), loss='binary_crossentropy', metrics=['accuracy'])\n",
    "# model.summary()"
   ]
  },
  {
   "cell_type": "code",
   "execution_count": null,
   "metadata": {},
   "outputs": [],
   "source": []
  },
  {
   "cell_type": "code",
   "execution_count": null,
   "metadata": {},
   "outputs": [],
   "source": [
    "# numpy.round(model.predict(train_data[0][0])).astype(int)"
   ]
  },
  {
   "cell_type": "code",
   "execution_count": null,
   "metadata": {},
   "outputs": [],
   "source": [
    "# train_data[1][0]"
   ]
  },
  {
   "cell_type": "code",
   "execution_count": null,
   "metadata": {},
   "outputs": [],
   "source": [
    "# input_layer2 = Input((None, input_size))\n",
    "# x2 = Bidirectional(LSTM(128, return_sequences=True, weights=model.layers[1].get_weights()))(input_layer2)\n",
    "# x2 = Dropout(0.5)(x2)\n",
    "# x2 = TimeDistributed(Reshape((16, 16, 1)))(x2)\n",
    "# x2 = ConvLSTM2D(1, (3, 3), padding='same', return_sequences=True, weights=model.layers[4].get_weights())(x2)\n",
    "# x2 = Activation('relu')(x2)\n",
    "# x2 = TimeDistributed(MaxPool2D(2))(x2)\n",
    "# x2 = ConvLSTM2D(1, (3, 3), return_sequences=False, weights=model.layers[7].get_weights())(x2)\n",
    "# output_layer2 = Activation('relu')(x2)\n",
    "# model2 = Model(input_layer2, output_layer2)\n",
    "# model2.compile(optimizer=Adam(lr=0.0001), loss='binary_crossentropy', metrics=['accuracy'])\n",
    "# model2.summary()"
   ]
  },
  {
   "cell_type": "code",
   "execution_count": null,
   "metadata": {},
   "outputs": [],
   "source": [
    "# skimage.io.imshow(model2.predict(train_data[0][21]).reshape((3, 4, 3)))"
   ]
  },
  {
   "cell_type": "code",
   "execution_count": 3,
   "metadata": {},
   "outputs": [
    {
     "ename": "AttributeError",
     "evalue": "can't set attribute",
     "output_type": "error",
     "traceback": [
      "\u001b[0;31m---------------------------------------------------------------------------\u001b[0m",
      "\u001b[0;31mAttributeError\u001b[0m                            Traceback (most recent call last)",
      "\u001b[0;32m<ipython-input-3-8c5080c09faa>\u001b[0m in \u001b[0;36m<module>\u001b[0;34m()\u001b[0m\n\u001b[1;32m      4\u001b[0m \u001b[0mx\u001b[0m \u001b[0;34m=\u001b[0m \u001b[0mBidirectional\u001b[0m\u001b[0;34m(\u001b[0m\u001b[0mLSTM\u001b[0m\u001b[0;34m(\u001b[0m\u001b[0;36m128\u001b[0m\u001b[0;34m,\u001b[0m \u001b[0mreturn_sequences\u001b[0m\u001b[0;34m=\u001b[0m\u001b[0;32mFalse\u001b[0m\u001b[0;34m)\u001b[0m\u001b[0;34m)\u001b[0m\u001b[0;34m(\u001b[0m\u001b[0mx\u001b[0m\u001b[0;34m)\u001b[0m\u001b[0;34m\u001b[0m\u001b[0m\n\u001b[1;32m      5\u001b[0m \u001b[0mx\u001b[0m \u001b[0;34m=\u001b[0m \u001b[0mDropout\u001b[0m\u001b[0;34m(\u001b[0m\u001b[0;36m0.5\u001b[0m\u001b[0;34m)\u001b[0m\u001b[0;34m(\u001b[0m\u001b[0mx\u001b[0m\u001b[0;34m)\u001b[0m\u001b[0;34m\u001b[0m\u001b[0m\n\u001b[0;32m----> 6\u001b[0;31m \u001b[0mx\u001b[0m \u001b[0;34m=\u001b[0m \u001b[0mVariationalDense\u001b[0m\u001b[0;34m(\u001b[0m\u001b[0;36m256\u001b[0m\u001b[0;34m,\u001b[0m \u001b[0;36m32\u001b[0m\u001b[0;34m)\u001b[0m\u001b[0;34m(\u001b[0m\u001b[0mx\u001b[0m\u001b[0;34m)\u001b[0m\u001b[0;34m\u001b[0m\u001b[0m\n\u001b[0m\u001b[1;32m      7\u001b[0m \u001b[0moutput_layer\u001b[0m \u001b[0;34m=\u001b[0m \u001b[0mDense\u001b[0m\u001b[0;34m(\u001b[0m\u001b[0minput_size\u001b[0m\u001b[0;34m,\u001b[0m \u001b[0mactivation\u001b[0m\u001b[0;34m=\u001b[0m\u001b[0;34m'sigmoid'\u001b[0m\u001b[0;34m)\u001b[0m\u001b[0;34m(\u001b[0m\u001b[0mx\u001b[0m\u001b[0;34m)\u001b[0m\u001b[0;34m\u001b[0m\u001b[0m\n\u001b[1;32m      8\u001b[0m \u001b[0mmodel\u001b[0m \u001b[0;34m=\u001b[0m \u001b[0mModel\u001b[0m\u001b[0;34m(\u001b[0m\u001b[0minput_layer\u001b[0m\u001b[0;34m,\u001b[0m \u001b[0moutput_layer\u001b[0m\u001b[0;34m)\u001b[0m\u001b[0;34m\u001b[0m\u001b[0m\n",
      "\u001b[0;32m~/Repos/seya/seya/layers/variational.py\u001b[0m in \u001b[0;36m__init__\u001b[0;34m(self, output_dim, batch_size, init, activation, weights, input_dim, regularizer_scale, prior_mean, prior_logsigma, **kwargs)\u001b[0m\n\u001b[1;32m     40\u001b[0m         \u001b[0;32mif\u001b[0m \u001b[0mself\u001b[0m\u001b[0;34m.\u001b[0m\u001b[0minput_dim\u001b[0m\u001b[0;34m:\u001b[0m\u001b[0;34m\u001b[0m\u001b[0m\n\u001b[1;32m     41\u001b[0m             \u001b[0mkwargs\u001b[0m\u001b[0;34m[\u001b[0m\u001b[0;34m'input_shape'\u001b[0m\u001b[0;34m]\u001b[0m \u001b[0;34m=\u001b[0m \u001b[0;34m(\u001b[0m\u001b[0mself\u001b[0m\u001b[0;34m.\u001b[0m\u001b[0minput_dim\u001b[0m\u001b[0;34m,\u001b[0m\u001b[0;34m)\u001b[0m\u001b[0;34m\u001b[0m\u001b[0m\n\u001b[0;32m---> 42\u001b[0;31m         \u001b[0mself\u001b[0m\u001b[0;34m.\u001b[0m\u001b[0minput\u001b[0m \u001b[0;34m=\u001b[0m \u001b[0mK\u001b[0m\u001b[0;34m.\u001b[0m\u001b[0mplaceholder\u001b[0m\u001b[0;34m(\u001b[0m\u001b[0mndim\u001b[0m\u001b[0;34m=\u001b[0m\u001b[0;36m2\u001b[0m\u001b[0;34m)\u001b[0m\u001b[0;34m\u001b[0m\u001b[0m\n\u001b[0m\u001b[1;32m     43\u001b[0m         \u001b[0msuper\u001b[0m\u001b[0;34m(\u001b[0m\u001b[0mVariationalDense\u001b[0m\u001b[0;34m,\u001b[0m \u001b[0mself\u001b[0m\u001b[0;34m)\u001b[0m\u001b[0;34m.\u001b[0m\u001b[0m__init__\u001b[0m\u001b[0;34m(\u001b[0m\u001b[0;34m**\u001b[0m\u001b[0mkwargs\u001b[0m\u001b[0;34m)\u001b[0m\u001b[0;34m\u001b[0m\u001b[0m\n\u001b[1;32m     44\u001b[0m \u001b[0;34m\u001b[0m\u001b[0m\n",
      "\u001b[0;31mAttributeError\u001b[0m: can't set attribute"
     ]
    }
   ],
   "source": [
    "input_layer = Input((None, 61))\n",
    "x = Bidirectional(LSTM(128, return_sequences=True))(input_layer)\n",
    "x = Dropout(0.5)(x)\n",
    "x = Bidirectional(LSTM(128, return_sequences=False))(x)\n",
    "x = Dropout(0.5)(x)\n",
    "output_layer = Dense(input_size, activation='sigmoid')(x)\n",
    "model = Model(input_layer, output_layer)\n",
    "model.compile(optimizer=Adam(lr=0.0001), loss='binary_crossentropy', metrics=['accuracy'])\n",
    "model.summary()"
   ]
  },
  {
   "cell_type": "code",
   "execution_count": null,
   "metadata": {
    "scrolled": true
   },
   "outputs": [],
   "source": [
    "model.fit_generator(generator(data), 128, 128)"
   ]
  },
  {
   "cell_type": "code",
   "execution_count": null,
   "metadata": {},
   "outputs": [],
   "source": [
    "numpy.round(model.predict(data[0][0][2])).astype(int)"
   ]
  },
  {
   "cell_type": "code",
   "execution_count": null,
   "metadata": {},
   "outputs": [],
   "source": [
    "input_layer2 = Input((None, input_size))\n",
    "x2 = Bidirectional(LSTM(128, return_sequences=True, weights=model.layers[1].get_weights()))(input_layer2)\n",
    "x2 = Dropout(0.5)(x2)\n",
    "x2 = Bidirectional(LSTM(128, return_sequences=False, weights=model.layers[3].get_weights()))(x2)\n",
    "output_layer2 = Dropout(0.5)(x2)\n",
    "model2 = Model(input_layer2, output_layer2)\n",
    "model2.compile(optimizer=Adam(lr=0.0001), loss='binary_crossentropy', metrics=['accuracy'])\n",
    "model2.summary()"
   ]
  },
  {
   "cell_type": "code",
   "execution_count": null,
   "metadata": {},
   "outputs": [],
   "source": [
    "import matplotlib.pyplot as plt"
   ]
  },
  {
   "cell_type": "code",
   "execution_count": null,
   "metadata": {},
   "outputs": [],
   "source": [
    "plt.figure(figsize=(100, 100))\n",
    "skimage.io.imshow(model2.predict(data[0][0][6]))"
   ]
  },
  {
   "cell_type": "code",
   "execution_count": null,
   "metadata": {},
   "outputs": [],
   "source": [
    "plt.figure(figsize=(20, 4))\n",
    "skimage.io.imshow(model2.predict(data[1][0][100]), aspect='auto')"
   ]
  },
  {
   "cell_type": "code",
   "execution_count": null,
   "metadata": {},
   "outputs": [],
   "source": [
    "plt.figure(figsize=(20, 4))\n",
    "skimage.io.imshow(model2.predict(data[0][0][19]), aspect='auto')"
   ]
  },
  {
   "cell_type": "code",
   "execution_count": null,
   "metadata": {},
   "outputs": [],
   "source": [
    "plt.figure(figsize=(20, 4))\n",
    "skimage.io.imshow(model2.predict(data[0][0][20]), aspect='auto')"
   ]
  },
  {
   "cell_type": "code",
   "execution_count": null,
   "metadata": {},
   "outputs": [],
   "source": [
    "plt.figure(figsize=(20, 4))\n",
    "skimage.io.imshow(model2.predict(data[1][0][100]), aspect='auto')"
   ]
  },
  {
   "cell_type": "code",
   "execution_count": null,
   "metadata": {},
   "outputs": [],
   "source": [
    "plt.figure(figsize=(20, 4))\n",
    "skimage.io.imshow(model2.predict(data[1][0][1]), aspect='auto')"
   ]
  },
  {
   "cell_type": "code",
   "execution_count": null,
   "metadata": {},
   "outputs": [],
   "source": [
    "plt.figure(figsize=(20, 4))\n",
    "skimage.io.imshow(numpy.round(model.predict(data[0][0][0])), aspect='auto')"
   ]
  },
  {
   "cell_type": "code",
   "execution_count": null,
   "metadata": {},
   "outputs": [],
   "source": [
    "plt.figure(figsize=(20, 4))\n",
    "skimage.io.imshow(numpy.round(model.predict(data[0][0][0])), aspect='auto')"
   ]
  },
  {
   "cell_type": "code",
   "execution_count": null,
   "metadata": {},
   "outputs": [],
   "source": [
    "test = numpy.round(model.predict(data[0][0][0]))"
   ]
  },
  {
   "cell_type": "code",
   "execution_count": null,
   "metadata": {},
   "outputs": [],
   "source": [
    "test2 = numpy.round(model.predict(test[numpy.newaxis, :, :]))"
   ]
  },
  {
   "cell_type": "code",
   "execution_count": null,
   "metadata": {},
   "outputs": [],
   "source": [
    "plt.figure(figsize=(20, 4))\n",
    "skimage.io.imshow(test2, aspect='auto')"
   ]
  },
  {
   "cell_type": "code",
   "execution_count": null,
   "metadata": {},
   "outputs": [],
   "source": [
    "test3 = numpy.round(model.predict(numpy.vstack([test, test2])[numpy.newaxis, :, :]))"
   ]
  },
  {
   "cell_type": "code",
   "execution_count": null,
   "metadata": {},
   "outputs": [],
   "source": [
    "plt.figure(figsize=(20, 4))\n",
    "skimage.io.imshow(test3, aspect='auto')"
   ]
  },
  {
   "cell_type": "code",
   "execution_count": null,
   "metadata": {},
   "outputs": [],
   "source": [
    "##############################################################################################"
   ]
  },
  {
   "cell_type": "code",
   "execution_count": null,
   "metadata": {},
   "outputs": [],
   "source": [
    "original_dim = 61\n",
    "intermediate_dim = 128\n",
    "latent_dim = 16 # must be even\n",
    "epsilon_std = 1.0\n",
    "timesteps = 32"
   ]
  },
  {
   "cell_type": "code",
   "execution_count": null,
   "metadata": {},
   "outputs": [],
   "source": [
    "output_tensor = K.placeholder(shape=(None, 61))"
   ]
  },
  {
   "cell_type": "code",
   "execution_count": null,
   "metadata": {},
   "outputs": [],
   "source": [
    "x = Input(shape=(timesteps, original_dim))\n",
    "h = Bidirectional(LSTM(128, return_sequences=True))(x)\n",
    "h = Dropout(0.5)(h)\n",
    "z_mean = Bidirectional(LSTM(latent_dim // 2, return_sequences=False))(h)\n",
    "z_log_var = Bidirectional(LSTM(latent_dim // 2, return_sequences=False))(h)\n",
    "repeat_z_mean = RepeatVector(timesteps)(z_mean)\n",
    "repeat_z_log_var = RepeatVector(timesteps)(z_log_var)\n",
    "\n",
    "def sampling(args):\n",
    "    z_mean, z_log_var = args\n",
    "    epsilon = K.random_normal(shape=(K.shape(z_mean)[0], latent_dim), mean=0.,\n",
    "                              stddev=epsilon_std)\n",
    "    return z_mean + K.exp(z_log_var / 2) * epsilon\n",
    "\n",
    "# note that \"output_shape\" isn't necessary with the TensorFlow backend\n",
    "z = Lambda(sampling, output_shape=(latent_dim,))([repeat_z_mean, repeat_z_log_var])\n",
    "\n",
    "# we instantiate these layers separately so as to reuse them later\n",
    "decoder_h = Bidirectional(LSTM(intermediate_dim, return_sequences=True))\n",
    "decoder_mean = TimeDistributed(Dense(original_dim, activation='sigmoid'))\n",
    "h_decoded = decoder_h(z)\n",
    "x_decoded_mean = decoder_mean(h_decoded)\n",
    "\n",
    "\n",
    "# Custom loss layer\n",
    "class CustomVariationalLayer(Layer):\n",
    "    def __init__(self, **kwargs):\n",
    "        self.is_placeholder = True\n",
    "        super(CustomVariationalLayer, self).__init__(**kwargs)\n",
    "\n",
    "    def vae_loss(self, x, x_decoded_mean):\n",
    "        xent_loss = original_dim * metrics.binary_crossentropy(x, x_decoded_mean)\n",
    "        kl_loss = - 0.5 * K.sum(1 + z_log_var - K.square(z_mean) - K.exp(z_log_var), axis=-1)\n",
    "        return K.mean(xent_loss + kl_loss)\n",
    "\n",
    "    def call(self, inputs):\n",
    "        x = inputs[0]\n",
    "        x_decoded_mean = inputs[1]\n",
    "        loss = self.vae_loss(x, x_decoded_mean)\n",
    "        self.add_loss(loss, inputs=inputs)\n",
    "        return x\n",
    "\n",
    "\n",
    "y = CustomVariationalLayer()([x, x_decoded_mean])\n",
    "vae = Model(x, y)\n",
    "vae.compile(optimizer='adam', loss=None)"
   ]
  },
  {
   "cell_type": "code",
   "execution_count": null,
   "metadata": {},
   "outputs": [],
   "source": []
  }
 ],
 "metadata": {
  "kernelspec": {
   "display_name": "Python 3",
   "language": "python",
   "name": "python3"
  },
  "language_info": {
   "codemirror_mode": {
    "name": "ipython",
    "version": 3
   },
   "file_extension": ".py",
   "mimetype": "text/x-python",
   "name": "python",
   "nbconvert_exporter": "python",
   "pygments_lexer": "ipython3",
   "version": "3.5.3"
  }
 },
 "nbformat": 4,
 "nbformat_minor": 2
}
