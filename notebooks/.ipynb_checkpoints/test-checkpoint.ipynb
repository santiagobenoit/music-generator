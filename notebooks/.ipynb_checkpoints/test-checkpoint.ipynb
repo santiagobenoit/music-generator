{
 "cells": [
  {
   "cell_type": "code",
   "execution_count": 30,
   "metadata": {},
   "outputs": [],
   "source": [
    "%matplotlib inline\n",
    "import keras\n",
    "from keras.layers import *\n",
    "from keras.models import *\n",
    "from keras.optimizers import *\n",
    "import mido\n",
    "import numpy\n",
    "import skimage.io"
   ]
  },
  {
   "cell_type": "code",
   "execution_count": 2,
   "metadata": {},
   "outputs": [],
   "source": [
    "notes = 36\n",
    "lookback = 256"
   ]
  },
  {
   "cell_type": "code",
   "execution_count": null,
   "metadata": {},
   "outputs": [],
   "source": [
    "# input_vector = Input((None, notes))\n",
    "# input_layer = TimeDistributed(Dense(notes, activation='sigmoid'))(input_vector)\n",
    "# previous_layer = input_layer\n",
    "# for units in reversed(range(notes // 6, notes + 1, 4)):\n",
    "#     hidden_layer = Bidirectional(LSTM(units, return_sequences=True, recurrent_dropout=0.5), merge_mode='concat')(previous_layer)\n",
    "#     previous_layer = hidden_layer\n",
    "# middle_layer = TimeDistributed(Dense(notes // 6, activation='sigmoid'))(previous_layer)\n",
    "# previous_layer = middle_layer\n",
    "# for units in range(notes // 6, notes + 1, 4):\n",
    "#     hidden_layer = Bidirectional(LSTM(units, return_sequences=True, recurrent_dropout=0.5), merge_mode='concat')(previous_layer)\n",
    "#     previous_layer = hidden_layer\n",
    "# output_layer = TimeDistributed(Dense(notes, activation='sigmoid'))(previous_layer)\n",
    "# model = Model(input_vector, output_layer)\n",
    "# model.compile(loss='binary_crossentropy', optimizer='adam', metrics=['acc'])"
   ]
  },
  {
   "cell_type": "code",
   "execution_count": null,
   "metadata": {},
   "outputs": [],
   "source": [
    "input_size = 1 + notes + 8 + 16\n",
    "input_layer = Input((None, input_size))\n",
    "previous_layer = input_layer\n",
    "for units in reversed(range(input_size // 6, input_size + 1, 8)):\n",
    "    hidden_layer = Bidirectional(LSTM(units, return_sequences=True, recurrent_dropout=0.5), merge_mode='concat')(previous_layer)\n",
    "    previous_layer = hidden_layer\n",
    "middle_layer = TimeDistributed(Activation('sigmoid'))(previous_layer)\n",
    "previous_layer = middle_layer\n",
    "for units in range(input_size // 6, input_size + 1, 8):\n",
    "    hidden_layer = Bidirectional(LSTM(units, return_sequences=True, recurrent_dropout=0.5), merge_mode='concat')(previous_layer)\n",
    "    previous_layer = hidden_layer\n",
    "output_layer = TimeDistributed(Dense(input_size, activation='sigmoid'))(previous_layer)\n",
    "model = Model(input_layer, output_layer)\n",
    "model.compile(loss='binary_crossentropy', optimizer=Adam(lr=0.0001), metrics=['acc'])"
   ]
  },
  {
   "cell_type": "code",
   "execution_count": null,
   "metadata": {},
   "outputs": [],
   "source": []
  },
  {
   "cell_type": "code",
   "execution_count": null,
   "metadata": {},
   "outputs": [],
   "source": [
    "model.summary()"
   ]
  },
  {
   "cell_type": "code",
   "execution_count": null,
   "metadata": {},
   "outputs": [],
   "source": [
    "x = numpy.zeros((1, 16, 57), dtype=int)\n",
    "for i in range(16):\n",
    "    x[:, i, i:i+4] = 1"
   ]
  },
  {
   "cell_type": "code",
   "execution_count": null,
   "metadata": {},
   "outputs": [],
   "source": [
    "x"
   ]
  },
  {
   "cell_type": "code",
   "execution_count": null,
   "metadata": {},
   "outputs": [],
   "source": [
    "y = numpy.invert(numpy.roll(x, -1, axis=1)) + 2"
   ]
  },
  {
   "cell_type": "code",
   "execution_count": null,
   "metadata": {},
   "outputs": [],
   "source": [
    "y"
   ]
  },
  {
   "cell_type": "code",
   "execution_count": null,
   "metadata": {},
   "outputs": [],
   "source": [
    "model.fit(x, y, epochs=10000)"
   ]
  },
  {
   "cell_type": "code",
   "execution_count": null,
   "metadata": {},
   "outputs": [],
   "source": [
    "numpy.round(model.predict(x)).astype(int)"
   ]
  },
  {
   "cell_type": "code",
   "execution_count": null,
   "metadata": {},
   "outputs": [],
   "source": []
  },
  {
   "cell_type": "code",
   "execution_count": null,
   "metadata": {},
   "outputs": [],
   "source": [
    "midi = mido.MidiFile('/home/santiago/Projects/MusicGenerator/data/midi/6.mid')"
   ]
  },
  {
   "cell_type": "code",
   "execution_count": null,
   "metadata": {},
   "outputs": [],
   "source": [
    "test = []\n",
    "for track in midi.tracks:\n",
    "    if track.name == 'Melody':\n",
    "        for message in track:\n",
    "            test.append(message)\n",
    "len(test)"
   ]
  },
  {
   "cell_type": "code",
   "execution_count": 23,
   "metadata": {},
   "outputs": [],
   "source": [
    "def chords_from_midi(midi_file):\n",
    "    data = []\n",
    "    midi = mido.MidiFile(midi_file)\n",
    "    for track in midi.tracks:\n",
    "        if track.name == 'Chords':\n",
    "            for message in track:\n",
    "                if message.type in ['note_on', 'note_off']:\n",
    "                    data.append((1 if message.type == 'note_on' else 0, message.note, message.velocity, message.time))\n",
    "    return numpy.array(data)\n",
    "\n",
    "\n",
    "def encode_chords(chords):\n",
    "    data = []\n",
    "    minimum = min(chords[:, 1])\n",
    "    prev_type = None\n",
    "    prev_veloc = None\n",
    "    encoded = None\n",
    "    for chord in chords:\n",
    "        if prev_type != chord[0] or prev_veloc != chord[2] or chord[3] != 0:\n",
    "            if encoded is not None:\n",
    "                data.append(encoded)\n",
    "            encoded = numpy.zeros((1 + notes + 8 + 16,))\n",
    "            encoded[0] = chord[0]\n",
    "            encoded[1 + notes:1 + notes + 8] = [int(x) for x in format(chord[2], '08b')]\n",
    "            encoded[1 + notes + 8:1 + notes + 8 + 16] = [int(x) for x in format(chord[3], '016b')]\n",
    "        encoded[1 + chord[1] - minimum] = 1\n",
    "        prev_type = chord[0]\n",
    "        prev_veloc = chord[2]\n",
    "    return numpy.array(data)\n",
    "\n",
    "\n",
    "def load_chords(midi_dir):\n",
    "    progressions = []\n",
    "    midi_files = sorted(glob.glob(os.path.join(midi_dir, '*.mid')) + glob.glob(os.path.join(midi_dir, '*.midi')))\n",
    "    for midi_file in midi_files:\n",
    "        try:\n",
    "            chords = chords_from_midi(midi_file)\n",
    "            encoded = encode_chords(chords)\n",
    "            progressions.append(encoded)\n",
    "        except (KeyboardInterrupt, SystemExit):\n",
    "            raise\n",
    "        except:\n",
    "            print(\"Skipping\", midi_file)\n",
    "    return progressions\n",
    "\n",
    "def input_output(sequence):\n",
    "    x = []\n",
    "    y = []\n",
    "    for i in range(len(sequence)):\n",
    "        if i == 0:\n",
    "            x.append(numpy.zeros((1, 1, 1 + notes + 8 + 16)).astype(int))\n",
    "        else:\n",
    "            x.append(numpy.vstack([numpy.zeros((1, 1 + notes + 8 + 16)), sequence[:i, :]])[numpy.newaxis, :, :].astype(int))\n",
    "            #x.append(sequence[numpy.newaxis, :i, :])\n",
    "        y.append(sequence[numpy.newaxis, i, :].astype(int))\n",
    "    return (x, y)\n",
    "\n",
    "def generator(data):\n",
    "    assert len(data[0]) == len(data[1])\n",
    "    while True:\n",
    "        for i in range(len(data[0])):\n",
    "            yield (data[0][i], data[1][i])"
   ]
  },
  {
   "cell_type": "code",
   "execution_count": 24,
   "metadata": {},
   "outputs": [],
   "source": [
    "data = chords_from_midi('/home/santiago/Projects/MusicGenerator/data/midi/6.mid')"
   ]
  },
  {
   "cell_type": "code",
   "execution_count": null,
   "metadata": {},
   "outputs": [],
   "source": [
    "data"
   ]
  },
  {
   "cell_type": "code",
   "execution_count": 25,
   "metadata": {},
   "outputs": [],
   "source": [
    "X = encode_chords(data)"
   ]
  },
  {
   "cell_type": "code",
   "execution_count": null,
   "metadata": {},
   "outputs": [],
   "source": [
    "for a in x:\n",
    "    print(a)"
   ]
  },
  {
   "cell_type": "code",
   "execution_count": 26,
   "metadata": {},
   "outputs": [],
   "source": [
    "train_data = input_output(X)"
   ]
  },
  {
   "cell_type": "code",
   "execution_count": null,
   "metadata": {},
   "outputs": [],
   "source": [
    "train_data[0][4]"
   ]
  },
  {
   "cell_type": "code",
   "execution_count": null,
   "metadata": {},
   "outputs": [],
   "source": [
    "# input_size = 1 + notes + 8 + 16\n",
    "# input_layer = Input((None, input_size))\n",
    "# x = Bidirectional(LSTM(128, return_sequences=True, recurrent_dropout=0.5), merge_mode='concat')(input_layer)\n",
    "# x = Conv1D(128, 3, padding='causal')(x)\n",
    "# x = Bidirectional(LSTM(64, return_sequences=True, recurrent_dropout=0.5), merge_mode='concat')(x)\n",
    "# x = Conv1D(64, 3, padding='causal')(x)\n",
    "# x = Bidirectional(LSTM(32, return_sequences=True, recurrent_dropout=0.5), merge_mode='concat')(x)\n",
    "# x = Conv1D(32, 3, padding='causal')(x)\n",
    "# x = Bidirectional(LSTM(16, return_sequences=True, recurrent_dropout=0.5), merge_mode='concat')(x)\n",
    "# x = Conv1D(16, 3, padding='causal')(x)\n",
    "# middle_layer = TimeDistributed(Activation('sigmoid'))(x)\n",
    "# x = Conv1D(32, 3, padding='causal')(middle_layer)\n",
    "# x = Bidirectional(LSTM(32, return_sequences=True, recurrent_dropout=0.5), merge_mode='concat')(x)\n",
    "# x = Conv1D(64, 3, padding='causal')(x)\n",
    "# x = Bidirectional(LSTM(64, return_sequences=True, recurrent_dropout=0.5), merge_mode='concat')(x)\n",
    "# output_layer = TimeDistributed(Dense(input_size, activation='sigmoid'))(x)\n",
    "# model = Model(input_layer, output_layer)\n",
    "# model.compile(loss='binary_crossentropy', optimizer=Adam(lr=0.0001), metrics=['acc'])"
   ]
  },
  {
   "cell_type": "code",
   "execution_count": null,
   "metadata": {},
   "outputs": [],
   "source": [
    "input_size = 1 + notes + 8 + 16\n",
    "input_layer = Input((256, input_size))\n",
    "x = Bidirectional(LSTM(256, recurrent_dropout=0.5, return_sequences=True), merge_mode='concat')(input_layer)\n",
    "# x = Conv1D(64, 3, padding='causal')(x)\n",
    "# x = MaxPool1D(2)(x)\n",
    "# x = Conv1D(64, 3, padding='causal')(x)\n",
    "# x = MaxPool1D(2)(x)\n",
    "# x = Conv1D(64, 3, padding='causal')(x)\n",
    "# x = MaxPool1D(2)(x)\n",
    "# x = Conv1D(64, 3, padding='causal')(x)\n",
    "# x = MaxPool1D(2)(x)\n",
    "# x = Conv1D(64, 3, padding='causal')(x)\n",
    "# x = MaxPool1D(2)(x)\n",
    "# x = Conv1D(64, 3, padding='causal')(x)\n",
    "# x = MaxPool1D(2)(x)\n",
    "# x = Conv1D(64, 3, padding='causal')(x)\n",
    "# x = MaxPool1D(2)(x)\n",
    "# x = Conv1D(64, 3, padding='causal')(x)\n",
    "# x = MaxPool1D(2)(x)\n",
    "# x = Conv1D(64, 3, padding='causal')(x)\n",
    "# x = Flatten()(x)\n",
    "x = Bidirectional(LSTM(256, recurrent_dropout=0.5), merge_mode='concat')(input_layer)\n",
    "output_layer = Dense(input_size, activation='sigmoid')(x)\n",
    "model = Model(input_layer, output_layer)\n",
    "model.compile(loss='binary_crossentropy', optimizer=Adam(lr=0.0001), metrics=['acc'])"
   ]
  },
  {
   "cell_type": "code",
   "execution_count": null,
   "metadata": {},
   "outputs": [],
   "source": [
    "model.summary()"
   ]
  },
  {
   "cell_type": "code",
   "execution_count": null,
   "metadata": {},
   "outputs": [],
   "source": [
    "model.fit_generator(generator(train_data), 128, 128)"
   ]
  },
  {
   "cell_type": "code",
   "execution_count": null,
   "metadata": {},
   "outputs": [],
   "source": [
    "test = numpy.round(model.predict(X[numpy.newaxis, :, :])).astype(int)"
   ]
  },
  {
   "cell_type": "code",
   "execution_count": null,
   "metadata": {},
   "outputs": [],
   "source": [
    "test[:, :, 1:37]"
   ]
  },
  {
   "cell_type": "code",
   "execution_count": null,
   "metadata": {},
   "outputs": [],
   "source": [
    "data"
   ]
  },
  {
   "cell_type": "code",
   "execution_count": 8,
   "metadata": {},
   "outputs": [],
   "source": [
    "input_size = 1 + notes + 8 + 16"
   ]
  },
  {
   "cell_type": "code",
   "execution_count": 83,
   "metadata": {},
   "outputs": [
    {
     "name": "stdout",
     "output_type": "stream",
     "text": [
      "_________________________________________________________________\n",
      "Layer (type)                 Output Shape              Param #   \n",
      "=================================================================\n",
      "input_9 (InputLayer)         (None, None, 61)          0         \n",
      "_________________________________________________________________\n",
      "bidirectional_9 (Bidirection (None, None, 256)         194560    \n",
      "_________________________________________________________________\n",
      "dropout_9 (Dropout)          (None, None, 256)         0         \n",
      "_________________________________________________________________\n",
      "time_distributed_17 (TimeDis (None, None, 16, 16, 1)   0         \n",
      "_________________________________________________________________\n",
      "conv_lst_m2d_17 (ConvLSTM2D) (None, None, 16, 16, 1)   76        \n",
      "_________________________________________________________________\n",
      "activation_10 (Activation)   (None, None, 16, 16, 1)   0         \n",
      "_________________________________________________________________\n",
      "time_distributed_18 (TimeDis (None, None, 8, 8, 1)     0         \n",
      "_________________________________________________________________\n",
      "conv_lst_m2d_18 (ConvLSTM2D) (None, 6, 6, 1)           76        \n",
      "_________________________________________________________________\n",
      "activation_11 (Activation)   (None, 6, 6, 1)           0         \n",
      "_________________________________________________________________\n",
      "flatten_7 (Flatten)          (None, 36)                0         \n",
      "_________________________________________________________________\n",
      "dense_7 (Dense)              (None, 61)                2257      \n",
      "=================================================================\n",
      "Total params: 196,969\n",
      "Trainable params: 196,969\n",
      "Non-trainable params: 0\n",
      "_________________________________________________________________\n"
     ]
    }
   ],
   "source": [
    "input_layer = Input((None, input_size))\n",
    "x = Bidirectional(LSTM(128, return_sequences=True))(input_layer)\n",
    "x = Dropout(0.5)(x)\n",
    "x = TimeDistributed(Reshape((16, 16, 1)))(x)\n",
    "x = ConvLSTM2D(1, (3, 3), padding='same', return_sequences=True)(x)\n",
    "x = Activation('relu')(x)\n",
    "x = TimeDistributed(MaxPool2D(2))(x)\n",
    "x = ConvLSTM2D(1, (3, 3), return_sequences=False)(x)\n",
    "x = Activation('relu')(x)\n",
    "x = Flatten()(x)\n",
    "output_layer = Dense(input_size, activation='sigmoid')(x)\n",
    "model = Model(input_layer, output_layer)\n",
    "model.compile(optimizer=Adam(lr=0.0001), loss='binary_crossentropy', metrics=['accuracy'])\n",
    "model.summary()"
   ]
  },
  {
   "cell_type": "code",
   "execution_count": 85,
   "metadata": {},
   "outputs": [
    {
     "name": "stdout",
     "output_type": "stream",
     "text": [
      "Epoch 1/128\n",
      "128/128 [==============================] - 6s - loss: 0.1510 - acc: 0.9306     \n",
      "Epoch 2/128\n",
      "128/128 [==============================] - 6s - loss: 0.1497 - acc: 0.9315     \n",
      "Epoch 3/128\n",
      "128/128 [==============================] - 6s - loss: 0.1488 - acc: 0.9315     \n",
      "Epoch 4/128\n",
      "128/128 [==============================] - 6s - loss: 0.1475 - acc: 0.9322     \n",
      "Epoch 5/128\n",
      "128/128 [==============================] - 6s - loss: 0.1459 - acc: 0.9360     \n",
      "Epoch 6/128\n",
      "128/128 [==============================] - 6s - loss: 0.1442 - acc: 0.9389     \n",
      "Epoch 7/128\n",
      "128/128 [==============================] - 6s - loss: 0.1436 - acc: 0.9398     \n",
      "Epoch 8/128\n",
      "128/128 [==============================] - 6s - loss: 0.1425 - acc: 0.9390     \n",
      "Epoch 9/128\n",
      "128/128 [==============================] - 6s - loss: 0.1417 - acc: 0.9399     \n",
      "Epoch 10/128\n",
      "128/128 [==============================] - 6s - loss: 0.1408 - acc: 0.9419     \n",
      "Epoch 11/128\n",
      "128/128 [==============================] - 6s - loss: 0.1385 - acc: 0.9444     \n",
      "Epoch 12/128\n",
      "128/128 [==============================] - 6s - loss: 0.1383 - acc: 0.9433     \n",
      "Epoch 13/128\n",
      "128/128 [==============================] - 6s - loss: 0.1372 - acc: 0.9431     \n",
      "Epoch 14/128\n",
      "128/128 [==============================] - 6s - loss: 0.1364 - acc: 0.9447     \n",
      "Epoch 15/128\n",
      "128/128 [==============================] - 6s - loss: 0.1355 - acc: 0.9454     \n",
      "Epoch 16/128\n",
      "128/128 [==============================] - 6s - loss: 0.1346 - acc: 0.9460     \n",
      "Epoch 17/128\n",
      "128/128 [==============================] - 6s - loss: 0.1328 - acc: 0.9468     \n",
      "Epoch 18/128\n",
      "128/128 [==============================] - 6s - loss: 0.1324 - acc: 0.9474     \n",
      "Epoch 19/128\n",
      "128/128 [==============================] - 6s - loss: 0.1309 - acc: 0.9474     \n",
      "Epoch 20/128\n",
      "128/128 [==============================] - 6s - loss: 0.1306 - acc: 0.9475     \n",
      "Epoch 21/128\n",
      "128/128 [==============================] - 6s - loss: 0.1299 - acc: 0.9480     \n",
      "Epoch 22/128\n",
      "128/128 [==============================] - 6s - loss: 0.1275 - acc: 0.9508     \n",
      "Epoch 23/128\n",
      "128/128 [==============================] - 6s - loss: 0.1278 - acc: 0.9511     \n",
      "Epoch 24/128\n",
      "128/128 [==============================] - 6s - loss: 0.1264 - acc: 0.9515     \n",
      "Epoch 25/128\n",
      "128/128 [==============================] - 6s - loss: 0.1263 - acc: 0.9525     \n",
      "Epoch 26/128\n",
      "128/128 [==============================] - 6s - loss: 0.1251 - acc: 0.9538     \n",
      "Epoch 27/128\n",
      "128/128 [==============================] - 6s - loss: 0.1236 - acc: 0.9550     \n",
      "Epoch 28/128\n",
      "128/128 [==============================] - 6s - loss: 0.1226 - acc: 0.9553     \n",
      "Epoch 29/128\n",
      "128/128 [==============================] - 6s - loss: 0.1221 - acc: 0.9552     \n",
      "Epoch 30/128\n",
      "128/128 [==============================] - 6s - loss: 0.1210 - acc: 0.9549     \n",
      "Epoch 31/128\n",
      "128/128 [==============================] - 6s - loss: 0.1209 - acc: 0.9541     \n",
      "Epoch 32/128\n",
      "128/128 [==============================] - 6s - loss: 0.1194 - acc: 0.9562     \n",
      "Epoch 33/128\n",
      "128/128 [==============================] - 6s - loss: 0.1173 - acc: 0.9572     \n",
      "Epoch 34/128\n",
      "128/128 [==============================] - 6s - loss: 0.1174 - acc: 0.9559     \n",
      "Epoch 35/128\n",
      "128/128 [==============================] - 6s - loss: 0.1165 - acc: 0.9556     \n",
      "Epoch 36/128\n",
      "128/128 [==============================] - 6s - loss: 0.1161 - acc: 0.9570     \n",
      "Epoch 37/128\n",
      "128/128 [==============================] - 6s - loss: 0.1147 - acc: 0.9568     \n",
      "Epoch 38/128\n",
      "128/128 [==============================] - 6s - loss: 0.1136 - acc: 0.9567     \n",
      "Epoch 39/128\n",
      "128/128 [==============================] - 6s - loss: 0.1123 - acc: 0.9577     \n",
      "Epoch 40/128\n",
      "128/128 [==============================] - 6s - loss: 0.1120 - acc: 0.9575     \n",
      "Epoch 41/128\n",
      "128/128 [==============================] - 6s - loss: 0.1111 - acc: 0.9576     \n",
      "Epoch 42/128\n",
      "128/128 [==============================] - 6s - loss: 0.1106 - acc: 0.9563     \n",
      "Epoch 43/128\n",
      "128/128 [==============================] - 6s - loss: 0.1090 - acc: 0.9576     \n",
      "Epoch 44/128\n",
      "128/128 [==============================] - 6s - loss: 0.1075 - acc: 0.9586     \n",
      "Epoch 45/128\n",
      "128/128 [==============================] - 6s - loss: 0.1074 - acc: 0.9579     \n",
      "Epoch 46/128\n",
      "128/128 [==============================] - 6s - loss: 0.1059 - acc: 0.9586     \n",
      "Epoch 47/128\n",
      "128/128 [==============================] - 6s - loss: 0.1050 - acc: 0.9603     \n",
      "Epoch 48/128\n",
      "128/128 [==============================] - 6s - loss: 0.1044 - acc: 0.9593     \n",
      "Epoch 49/128\n",
      "128/128 [==============================] - 6s - loss: 0.1040 - acc: 0.9598     \n",
      "Epoch 50/128\n",
      "128/128 [==============================] - 6s - loss: 0.1022 - acc: 0.9607     \n",
      "Epoch 51/128\n",
      "128/128 [==============================] - 6s - loss: 0.1022 - acc: 0.9604     \n",
      "Epoch 52/128\n",
      "128/128 [==============================] - 6s - loss: 0.1008 - acc: 0.9609     \n",
      "Epoch 53/128\n",
      "128/128 [==============================] - 6s - loss: 0.1006 - acc: 0.9613     \n",
      "Epoch 54/128\n",
      "128/128 [==============================] - 6s - loss: 0.0993 - acc: 0.9629     \n",
      "Epoch 55/128\n",
      "128/128 [==============================] - 6s - loss: 0.0979 - acc: 0.9629     \n",
      "Epoch 56/128\n",
      "128/128 [==============================] - 6s - loss: 0.0979 - acc: 0.9626     \n",
      "Epoch 57/128\n",
      "128/128 [==============================] - 6s - loss: 0.0974 - acc: 0.9612     \n",
      "Epoch 58/128\n",
      "128/128 [==============================] - 6s - loss: 0.0962 - acc: 0.9647     \n",
      "Epoch 59/128\n",
      "128/128 [==============================] - 6s - loss: 0.0955 - acc: 0.9653     \n",
      "Epoch 60/128\n",
      "128/128 [==============================] - 6s - loss: 0.0948 - acc: 0.9643     \n",
      "Epoch 61/128\n",
      "128/128 [==============================] - 6s - loss: 0.0933 - acc: 0.9672     \n",
      "Epoch 62/128\n",
      "128/128 [==============================] - 6s - loss: 0.0931 - acc: 0.9687     \n",
      "Epoch 63/128\n",
      "128/128 [==============================] - 6s - loss: 0.0927 - acc: 0.9677     \n",
      "Epoch 64/128\n",
      "128/128 [==============================] - 6s - loss: 0.0931 - acc: 0.9670     \n",
      "Epoch 65/128\n",
      "128/128 [==============================] - 6s - loss: 0.0913 - acc: 0.9707     \n",
      "Epoch 66/128\n",
      "128/128 [==============================] - 6s - loss: 0.0903 - acc: 0.9695     \n",
      "Epoch 67/128\n",
      "128/128 [==============================] - 6s - loss: 0.0905 - acc: 0.9702     \n",
      "Epoch 68/128\n",
      "128/128 [==============================] - 6s - loss: 0.0894 - acc: 0.9707     \n",
      "Epoch 69/128\n",
      "128/128 [==============================] - 6s - loss: 0.0885 - acc: 0.9705     \n",
      "Epoch 70/128\n",
      "128/128 [==============================] - 6s - loss: 0.0880 - acc: 0.9725     \n",
      "Epoch 71/128\n",
      "128/128 [==============================] - 6s - loss: 0.0875 - acc: 0.9725     \n",
      "Epoch 72/128\n",
      "128/128 [==============================] - 6s - loss: 0.0859 - acc: 0.9726     \n",
      "Epoch 73/128\n",
      "128/128 [==============================] - 6s - loss: 0.0862 - acc: 0.9730     \n",
      "Epoch 74/128\n",
      "128/128 [==============================] - 6s - loss: 0.0853 - acc: 0.9735     \n",
      "Epoch 75/128\n",
      "128/128 [==============================] - 6s - loss: 0.0851 - acc: 0.9736     \n",
      "Epoch 76/128\n",
      "128/128 [==============================] - 6s - loss: 0.0839 - acc: 0.9750     \n",
      "Epoch 77/128\n",
      "128/128 [==============================] - 6s - loss: 0.0829 - acc: 0.9736     \n",
      "Epoch 78/128\n",
      "128/128 [==============================] - 6s - loss: 0.0830 - acc: 0.9743     \n",
      "Epoch 79/128\n",
      "128/128 [==============================] - 6s - loss: 0.0827 - acc: 0.9730     \n",
      "Epoch 80/128\n",
      "128/128 [==============================] - 6s - loss: 0.0816 - acc: 0.9750     \n",
      "Epoch 81/128\n",
      "128/128 [==============================] - 6s - loss: 0.0809 - acc: 0.9762     \n",
      "Epoch 82/128\n",
      "128/128 [==============================] - 6s - loss: 0.0807 - acc: 0.9763     \n",
      "Epoch 83/128\n",
      "128/128 [==============================] - 6s - loss: 0.0796 - acc: 0.9768     \n",
      "Epoch 84/128\n",
      "128/128 [==============================] - 6s - loss: 0.0797 - acc: 0.9784     \n",
      "Epoch 85/128\n",
      "128/128 [==============================] - 6s - loss: 0.0789 - acc: 0.9781     \n",
      "Epoch 86/128\n",
      "128/128 [==============================] - 6s - loss: 0.0787 - acc: 0.9780     \n",
      "Epoch 87/128\n",
      "128/128 [==============================] - 6s - loss: 0.0771 - acc: 0.9793     \n",
      "Epoch 88/128\n",
      "128/128 [==============================] - 6s - loss: 0.0765 - acc: 0.9784     \n",
      "Epoch 89/128\n"
     ]
    },
    {
     "name": "stdout",
     "output_type": "stream",
     "text": [
      "128/128 [==============================] - 6s - loss: 0.0769 - acc: 0.9790     - ETA: \n",
      "Epoch 90/128\n",
      "128/128 [==============================] - 6s - loss: 0.0763 - acc: 0.9781     \n",
      "Epoch 91/128\n",
      "128/128 [==============================] - 6s - loss: 0.0755 - acc: 0.9791     \n",
      "Epoch 92/128\n",
      "128/128 [==============================] - 6s - loss: 0.0749 - acc: 0.9800     \n",
      "Epoch 93/128\n",
      "128/128 [==============================] - 6s - loss: 0.0747 - acc: 0.9808     \n",
      "Epoch 94/128\n",
      "128/128 [==============================] - 6s - loss: 0.0738 - acc: 0.9812     \n",
      "Epoch 95/128\n",
      "128/128 [==============================] - 6s - loss: 0.0734 - acc: 0.9817     \n",
      "Epoch 96/128\n",
      "128/128 [==============================] - 6s - loss: 0.0735 - acc: 0.9804     \n",
      "Epoch 97/128\n",
      "128/128 [==============================] - 6s - loss: 0.0726 - acc: 0.9818     \n",
      "Epoch 98/128\n",
      "128/128 [==============================] - 6s - loss: 0.0714 - acc: 0.9825     \n",
      "Epoch 99/128\n",
      "128/128 [==============================] - 6s - loss: 0.0707 - acc: 0.9822     \n",
      "Epoch 100/128\n",
      "128/128 [==============================] - 6s - loss: 0.0707 - acc: 0.9827     \n",
      "Epoch 101/128\n",
      "128/128 [==============================] - 6s - loss: 0.0695 - acc: 0.9830     \n",
      "Epoch 102/128\n",
      "128/128 [==============================] - 6s - loss: 0.0696 - acc: 0.9832     \n",
      "Epoch 103/128\n",
      "128/128 [==============================] - 6s - loss: 0.0689 - acc: 0.9837     \n",
      "Epoch 104/128\n",
      "128/128 [==============================] - 6s - loss: 0.0677 - acc: 0.9853     \n",
      "Epoch 105/128\n",
      "128/128 [==============================] - 6s - loss: 0.0665 - acc: 0.9855     \n",
      "Epoch 106/128\n",
      "128/128 [==============================] - 6s - loss: 0.0668 - acc: 0.9862     \n",
      "Epoch 107/128\n",
      "128/128 [==============================] - 6s - loss: 0.0674 - acc: 0.9855     \n",
      "Epoch 108/128\n",
      "128/128 [==============================] - 6s - loss: 0.0652 - acc: 0.9869     \n",
      "Epoch 109/128\n",
      "128/128 [==============================] - 6s - loss: 0.0645 - acc: 0.9872     \n",
      "Epoch 110/128\n",
      "128/128 [==============================] - 6s - loss: 0.0634 - acc: 0.9877     \n",
      "Epoch 111/128\n",
      "128/128 [==============================] - 6s - loss: 0.0641 - acc: 0.9848     \n",
      "Epoch 112/128\n",
      "128/128 [==============================] - 6s - loss: 0.0633 - acc: 0.9868     \n",
      "Epoch 113/128\n",
      "128/128 [==============================] - 6s - loss: 0.0624 - acc: 0.9872     \n",
      "Epoch 114/128\n",
      "128/128 [==============================] - 6s - loss: 0.0624 - acc: 0.9894     \n",
      "Epoch 115/128\n",
      "128/128 [==============================] - 6s - loss: 0.0617 - acc: 0.9890     \n",
      "Epoch 116/128\n",
      "128/128 [==============================] - 6s - loss: 0.0602 - acc: 0.9898     \n",
      "Epoch 117/128\n",
      "128/128 [==============================] - 6s - loss: 0.0602 - acc: 0.9901     \n",
      "Epoch 118/128\n",
      "128/128 [==============================] - 6s - loss: 0.0600 - acc: 0.9901     \n",
      "Epoch 119/128\n",
      "128/128 [==============================] - 6s - loss: 0.0596 - acc: 0.9899     \n",
      "Epoch 120/128\n",
      "128/128 [==============================] - 6s - loss: 0.0585 - acc: 0.9908     \n",
      "Epoch 121/128\n",
      "128/128 [==============================] - 6s - loss: 0.0576 - acc: 0.9909     \n",
      "Epoch 122/128\n",
      "128/128 [==============================] - 6s - loss: 0.0583 - acc: 0.9913     \n",
      "Epoch 123/128\n",
      "128/128 [==============================] - 6s - loss: 0.0571 - acc: 0.9913     \n",
      "Epoch 124/128\n",
      "128/128 [==============================] - 6s - loss: 0.0568 - acc: 0.9912     \n",
      "Epoch 125/128\n",
      "128/128 [==============================] - 6s - loss: 0.0564 - acc: 0.9917     \n",
      "Epoch 126/128\n",
      "128/128 [==============================] - 6s - loss: 0.0559 - acc: 0.9910     \n",
      "Epoch 127/128\n",
      "128/128 [==============================] - 6s - loss: 0.0552 - acc: 0.9910     \n",
      "Epoch 128/128\n",
      "128/128 [==============================] - 6s - loss: 0.0547 - acc: 0.9918     \n"
     ]
    },
    {
     "data": {
      "text/plain": [
       "<keras.callbacks.History at 0x7f15fa1339b0>"
      ]
     },
     "execution_count": 85,
     "metadata": {},
     "output_type": "execute_result"
    }
   ],
   "source": [
    "model.fit_generator(generator(train_data), 128, 128)"
   ]
  },
  {
   "cell_type": "code",
   "execution_count": 86,
   "metadata": {},
   "outputs": [
    {
     "data": {
      "text/plain": [
       "array([[1, 1, 0, 0, 0, 0, 0, 0, 1, 0, 0, 0, 0, 1, 0, 0, 0, 1, 0, 0, 1, 0,\n",
       "        0, 0, 0, 0, 0, 0, 0, 0, 0, 0, 0, 0, 0, 0, 0, 0, 1, 1, 0, 0, 1, 0,\n",
       "        0, 0, 0, 0, 0, 0, 0, 0, 0, 0, 0, 0, 0, 0, 0, 0, 0]])"
      ]
     },
     "execution_count": 86,
     "metadata": {},
     "output_type": "execute_result"
    }
   ],
   "source": [
    "numpy.round(model.predict(train_data[0][0])).astype(int)"
   ]
  },
  {
   "cell_type": "code",
   "execution_count": 87,
   "metadata": {},
   "outputs": [
    {
     "data": {
      "text/plain": [
       "array([[1, 1, 0, 0, 0, 1, 0, 0, 1, 0, 0, 0, 0, 1, 0, 0, 0, 1, 0, 0, 0, 0,\n",
       "        0, 0, 0, 0, 0, 0, 0, 0, 0, 0, 0, 0, 0, 0, 0, 0, 1, 1, 0, 0, 1, 0,\n",
       "        0, 0, 0, 0, 0, 0, 0, 0, 0, 0, 0, 0, 0, 0, 0, 0, 0]])"
      ]
     },
     "execution_count": 87,
     "metadata": {},
     "output_type": "execute_result"
    }
   ],
   "source": [
    "train_data[1][0]"
   ]
  },
  {
   "cell_type": "code",
   "execution_count": 90,
   "metadata": {},
   "outputs": [
    {
     "name": "stdout",
     "output_type": "stream",
     "text": [
      "_________________________________________________________________\n",
      "Layer (type)                 Output Shape              Param #   \n",
      "=================================================================\n",
      "input_12 (InputLayer)        (None, None, 61)          0         \n",
      "_________________________________________________________________\n",
      "bidirectional_12 (Bidirectio (None, None, 256)         194560    \n",
      "_________________________________________________________________\n",
      "dropout_12 (Dropout)         (None, None, 256)         0         \n",
      "_________________________________________________________________\n",
      "time_distributed_22 (TimeDis (None, None, 16, 16, 1)   0         \n",
      "_________________________________________________________________\n",
      "conv_lst_m2d_22 (ConvLSTM2D) (None, None, 16, 16, 1)   76        \n",
      "_________________________________________________________________\n",
      "activation_12 (Activation)   (None, None, 16, 16, 1)   0         \n",
      "_________________________________________________________________\n",
      "time_distributed_23 (TimeDis (None, None, 8, 8, 1)     0         \n",
      "_________________________________________________________________\n",
      "conv_lst_m2d_23 (ConvLSTM2D) (None, 6, 6, 1)           76        \n",
      "_________________________________________________________________\n",
      "activation_13 (Activation)   (None, 6, 6, 1)           0         \n",
      "=================================================================\n",
      "Total params: 194,712\n",
      "Trainable params: 194,712\n",
      "Non-trainable params: 0\n",
      "_________________________________________________________________\n"
     ]
    }
   ],
   "source": [
    "input_layer2 = Input((None, input_size))\n",
    "x2 = Bidirectional(LSTM(128, return_sequences=True, weights=model.layers[1].get_weights()))(input_layer2)\n",
    "x2 = Dropout(0.5)(x2)\n",
    "x2 = TimeDistributed(Reshape((16, 16, 1)))(x2)\n",
    "x2 = ConvLSTM2D(1, (3, 3), padding='same', return_sequences=True, weights=model.layers[4].get_weights())(x2)\n",
    "x2 = Activation('relu')(x2)\n",
    "x2 = TimeDistributed(MaxPool2D(2))(x2)\n",
    "x2 = ConvLSTM2D(1, (3, 3), return_sequences=False, weights=model.layers[7].get_weights())(x2)\n",
    "output_layer2 = Activation('relu')(x2)\n",
    "model2 = Model(input_layer2, output_layer2)\n",
    "model2.compile(optimizer=Adam(lr=0.0001), loss='binary_crossentropy', metrics=['accuracy'])\n",
    "model2.summary()"
   ]
  },
  {
   "cell_type": "code",
   "execution_count": 132,
   "metadata": {},
   "outputs": [
    {
     "data": {
      "text/plain": [
       "<matplotlib.image.AxesImage at 0x7f15f846c2b0>"
      ]
     },
     "execution_count": 132,
     "metadata": {},
     "output_type": "execute_result"
    },
    {
     "data": {
      "image/png": "[encoded data removed]",
      "text/plain": [
       "<matplotlib.figure.Figure at 0x7f15f84a05c0>"
      ]
     },
     "metadata": {},
     "output_type": "display_data"
    }
   ],
   "source": [
    "skimage.io.imshow(model2.predict(train_data[0][21]).reshape((3, 4, 3)))"
   ]
  },
  {
   "cell_type": "code",
   "execution_count": 176,
   "metadata": {},
   "outputs": [
    {
     "name": "stdout",
     "output_type": "stream",
     "text": [
      "_________________________________________________________________\n",
      "Layer (type)                 Output Shape              Param #   \n",
      "=================================================================\n",
      "input_18 (InputLayer)        (None, None, 61)          0         \n",
      "_________________________________________________________________\n",
      "bidirectional_23 (Bidirectio (None, None, 256)         194560    \n",
      "_________________________________________________________________\n",
      "dropout_21 (Dropout)         (None, None, 256)         0         \n",
      "_________________________________________________________________\n",
      "bidirectional_24 (Bidirectio (None, 256)               394240    \n",
      "_________________________________________________________________\n",
      "dropout_22 (Dropout)         (None, 256)               0         \n",
      "_________________________________________________________________\n",
      "dense_10 (Dense)             (None, 61)                15677     \n",
      "=================================================================\n",
      "Total params: 604,477\n",
      "Trainable params: 604,477\n",
      "Non-trainable params: 0\n",
      "_________________________________________________________________\n"
     ]
    }
   ],
   "source": [
    "input_layer = Input((None, input_size))\n",
    "x = Bidirectional(LSTM(128, return_sequences=True))(input_layer)\n",
    "x = Dropout(0.5)(x)\n",
    "x = Bidirectional(LSTM(128, return_sequences=False))(x)\n",
    "x = Dropout(0.5)(x)\n",
    "output_layer = Dense(input_size, activation='sigmoid')(x)\n",
    "model = Model(input_layer, output_layer)\n",
    "model.compile(optimizer=Adam(lr=0.0001), loss='binary_crossentropy', metrics=['accuracy'])\n",
    "model.summary()"
   ]
  },
  {
   "cell_type": "code",
   "execution_count": 177,
   "metadata": {},
   "outputs": [
    {
     "name": "stdout",
     "output_type": "stream",
     "text": [
      "Epoch 1/128\n",
      "128/128 [==============================] - 5s - loss: 0.5602 - acc: 0.7770     \n",
      "Epoch 2/128\n",
      "128/128 [==============================] - 4s - loss: 0.3478 - acc: 0.8537     \n",
      "Epoch 3/128\n",
      "128/128 [==============================] - 4s - loss: 0.3012 - acc: 0.8600     \n",
      "Epoch 4/128\n",
      "128/128 [==============================] - 4s - loss: 0.2919 - acc: 0.8592     \n",
      "Epoch 5/128\n",
      "128/128 [==============================] - 4s - loss: 0.2800 - acc: 0.8618     \n",
      "Epoch 6/128\n",
      "128/128 [==============================] - 4s - loss: 0.2698 - acc: 0.8609     \n",
      "Epoch 7/128\n",
      "128/128 [==============================] - 4s - loss: 0.2715 - acc: 0.8627     \n",
      "Epoch 8/128\n",
      "128/128 [==============================] - 4s - loss: 0.2675 - acc: 0.8600     \n",
      "Epoch 9/128\n",
      "128/128 [==============================] - 4s - loss: 0.2665 - acc: 0.8630     \n",
      "Epoch 10/128\n",
      "128/128 [==============================] - 4s - loss: 0.2621 - acc: 0.8626     \n",
      "Epoch 11/128\n",
      "128/128 [==============================] - 4s - loss: 0.2545 - acc: 0.8657     \n",
      "Epoch 12/128\n",
      "128/128 [==============================] - 4s - loss: 0.2548 - acc: 0.8689     \n",
      "Epoch 13/128\n",
      "128/128 [==============================] - 4s - loss: 0.2493 - acc: 0.8718     \n",
      "Epoch 14/128\n",
      "128/128 [==============================] - 4s - loss: 0.2523 - acc: 0.8683     \n",
      "Epoch 15/128\n",
      "128/128 [==============================] - 4s - loss: 0.2451 - acc: 0.8755     \n",
      "Epoch 16/128\n",
      "128/128 [==============================] - 4s - loss: 0.2399 - acc: 0.8772     \n",
      "Epoch 17/128\n",
      "128/128 [==============================] - 4s - loss: 0.2322 - acc: 0.8813     \n",
      "Epoch 18/128\n",
      "128/128 [==============================] - 4s - loss: 0.2252 - acc: 0.8900     \n",
      "Epoch 19/128\n",
      "128/128 [==============================] - 4s - loss: 0.2062 - acc: 0.9028     \n",
      "Epoch 20/128\n",
      "128/128 [==============================] - 4s - loss: 0.1998 - acc: 0.9119     \n",
      "Epoch 21/128\n",
      "128/128 [==============================] - 4s - loss: 0.2052 - acc: 0.9093     \n",
      "Epoch 22/128\n",
      "128/128 [==============================] - 4s - loss: 0.1774 - acc: 0.9276     \n",
      "Epoch 23/128\n",
      "128/128 [==============================] - 4s - loss: 0.1612 - acc: 0.9420     \n",
      "Epoch 24/128\n",
      "128/128 [==============================] - 4s - loss: 0.1401 - acc: 0.9545     \n",
      "Epoch 25/128\n",
      "128/128 [==============================] - 4s - loss: 0.1238 - acc: 0.9640     \n",
      "Epoch 26/128\n",
      "128/128 [==============================] - 4s - loss: 0.1160 - acc: 0.9634     \n",
      "Epoch 27/128\n",
      "128/128 [==============================] - 4s - loss: 0.1069 - acc: 0.9684     \n",
      "Epoch 28/128\n",
      "128/128 [==============================] - 4s - loss: 0.0952 - acc: 0.9721     \n",
      "Epoch 29/128\n",
      "128/128 [==============================] - 4s - loss: 0.0916 - acc: 0.9740     \n",
      "Epoch 30/128\n",
      "128/128 [==============================] - 4s - loss: 0.0852 - acc: 0.9776     \n",
      "Epoch 31/128\n",
      "128/128 [==============================] - 4s - loss: 0.0764 - acc: 0.9830     \n",
      "Epoch 32/128\n",
      "128/128 [==============================] - 4s - loss: 0.0718 - acc: 0.9840     \n",
      "Epoch 33/128\n",
      "128/128 [==============================] - 4s - loss: 0.0600 - acc: 0.9882     \n",
      "Epoch 34/128\n",
      "128/128 [==============================] - 4s - loss: 0.0608 - acc: 0.9882     \n",
      "Epoch 35/128\n",
      "128/128 [==============================] - 4s - loss: 0.0566 - acc: 0.9891     \n",
      "Epoch 36/128\n",
      "128/128 [==============================] - 4s - loss: 0.0548 - acc: 0.9886     \n",
      "Epoch 37/128\n",
      "128/128 [==============================] - 4s - loss: 0.0498 - acc: 0.9900     \n",
      "Epoch 38/128\n",
      "128/128 [==============================] - 4s - loss: 0.0494 - acc: 0.9904     \n",
      "Epoch 39/128\n",
      "128/128 [==============================] - 4s - loss: 0.0414 - acc: 0.9922     \n",
      "Epoch 40/128\n",
      "128/128 [==============================] - 4s - loss: 0.0425 - acc: 0.9907     \n",
      "Epoch 41/128\n",
      "128/128 [==============================] - 4s - loss: 0.0409 - acc: 0.9918     \n",
      "Epoch 42/128\n",
      "128/128 [==============================] - 4s - loss: 0.0381 - acc: 0.9918     \n",
      "Epoch 43/128\n",
      "128/128 [==============================] - 4s - loss: 0.0356 - acc: 0.9928     \n",
      "Epoch 44/128\n",
      "128/128 [==============================] - 4s - loss: 0.0335 - acc: 0.9919     \n",
      "Epoch 45/128\n",
      "128/128 [==============================] - 4s - loss: 0.0343 - acc: 0.9935     \n",
      "Epoch 46/128\n",
      "128/128 [==============================] - 4s - loss: 0.0308 - acc: 0.9946     \n",
      "Epoch 47/128\n",
      "128/128 [==============================] - 4s - loss: 0.0312 - acc: 0.9946     \n",
      "Epoch 48/128\n",
      "128/128 [==============================] - 4s - loss: 0.0300 - acc: 0.9941     \n",
      "Epoch 49/128\n",
      "128/128 [==============================] - 4s - loss: 0.0276 - acc: 0.9947     \n",
      "Epoch 50/128\n",
      "128/128 [==============================] - 4s - loss: 0.0243 - acc: 0.9946     \n",
      "Epoch 51/128\n",
      "128/128 [==============================] - 4s - loss: 0.0255 - acc: 0.9936     \n",
      "Epoch 52/128\n",
      "128/128 [==============================] - 4s - loss: 0.0235 - acc: 0.9971     \n",
      "Epoch 53/128\n",
      "128/128 [==============================] - 4s - loss: 0.0249 - acc: 0.9953     \n",
      "Epoch 54/128\n",
      "128/128 [==============================] - 4s - loss: 0.0228 - acc: 0.9958     \n",
      "Epoch 55/128\n",
      "128/128 [==============================] - 4s - loss: 0.0193 - acc: 0.9963     \n",
      "Epoch 56/128\n",
      "128/128 [==============================] - 4s - loss: 0.0215 - acc: 0.9962     \n",
      "Epoch 57/128\n",
      "128/128 [==============================] - 4s - loss: 0.0203 - acc: 0.9962     \n",
      "Epoch 58/128\n",
      "128/128 [==============================] - 4s - loss: 0.0277 - acc: 0.9942     \n",
      "Epoch 59/128\n",
      "128/128 [==============================] - 4s - loss: 0.0208 - acc: 0.9965     \n",
      "Epoch 60/128\n",
      "128/128 [==============================] - 4s - loss: 0.0187 - acc: 0.9974     \n",
      "Epoch 61/128\n",
      "128/128 [==============================] - 4s - loss: 0.0161 - acc: 0.9972     \n",
      "Epoch 62/128\n",
      "128/128 [==============================] - 4s - loss: 0.0172 - acc: 0.9964     \n",
      "Epoch 63/128\n",
      "128/128 [==============================] - 4s - loss: 0.0160 - acc: 0.9972     \n",
      "Epoch 64/128\n",
      "128/128 [==============================] - 4s - loss: 0.0169 - acc: 0.9969     \n",
      "Epoch 65/128\n",
      "128/128 [==============================] - 4s - loss: 0.0160 - acc: 0.9977     \n",
      "Epoch 66/128\n",
      "128/128 [==============================] - 4s - loss: 0.0134 - acc: 0.9981     \n",
      "Epoch 67/128\n",
      "128/128 [==============================] - 4s - loss: 0.0160 - acc: 0.9976     \n",
      "Epoch 68/128\n",
      "128/128 [==============================] - 4s - loss: 0.0141 - acc: 0.9985     \n",
      "Epoch 69/128\n",
      "128/128 [==============================] - 4s - loss: 0.0147 - acc: 0.9976     \n",
      "Epoch 70/128\n",
      "128/128 [==============================] - 4s - loss: 0.0140 - acc: 0.9982     \n",
      "Epoch 71/128\n",
      "128/128 [==============================] - 4s - loss: 0.0131 - acc: 0.9980     \n",
      "Epoch 72/128\n",
      "128/128 [==============================] - 4s - loss: 0.0109 - acc: 0.9991     \n",
      "Epoch 73/128\n",
      "128/128 [==============================] - 4s - loss: 0.0121 - acc: 0.9991     \n",
      "Epoch 74/128\n",
      "128/128 [==============================] - 4s - loss: 0.0116 - acc: 0.9988     \n",
      "Epoch 75/128\n",
      "128/128 [==============================] - 4s - loss: 0.0122 - acc: 0.9985     \n",
      "Epoch 76/128\n",
      "128/128 [==============================] - 4s - loss: 0.0123 - acc: 0.9983     \n",
      "Epoch 77/128\n",
      "128/128 [==============================] - 4s - loss: 0.0098 - acc: 0.9982     \n",
      "Epoch 78/128\n",
      "128/128 [==============================] - 4s - loss: 0.0100 - acc: 0.9988     \n",
      "Epoch 79/128\n",
      "128/128 [==============================] - 4s - loss: 0.0096 - acc: 0.9990     \n",
      "Epoch 80/128\n",
      "128/128 [==============================] - 4s - loss: 0.0099 - acc: 0.9991     \n",
      "Epoch 81/128\n",
      "128/128 [==============================] - 4s - loss: 0.0088 - acc: 0.9992     \n",
      "Epoch 82/128\n",
      "128/128 [==============================] - 4s - loss: 0.0087 - acc: 0.9988     \n",
      "Epoch 83/128\n",
      "128/128 [==============================] - 4s - loss: 0.0071 - acc: 0.9994     \n",
      "Epoch 84/128\n",
      "128/128 [==============================] - 4s - loss: 0.0077 - acc: 0.9991     \n",
      "Epoch 85/128\n",
      "128/128 [==============================] - 4s - loss: 0.0077 - acc: 0.9992     \n",
      "Epoch 86/128\n",
      "128/128 [==============================] - 4s - loss: 0.0070 - acc: 0.9992     \n",
      "Epoch 87/128\n",
      "128/128 [==============================] - 4s - loss: 0.0066 - acc: 0.9999     \n",
      "Epoch 88/128\n",
      "128/128 [==============================] - 4s - loss: 0.0054 - acc: 0.9999     \n",
      "Epoch 89/128\n"
     ]
    },
    {
     "name": "stdout",
     "output_type": "stream",
     "text": [
      "128/128 [==============================] - 4s - loss: 0.0063 - acc: 0.9996     \n",
      "Epoch 90/128\n",
      " 22/128 [====>.........................] - ETA: 3s - loss: 0.0058 - acc: 1.0000"
     ]
    },
    {
     "ename": "KeyboardInterrupt",
     "evalue": "",
     "output_type": "error",
     "traceback": [
      "\u001b[0;31m---------------------------------------------------------------------------\u001b[0m",
      "\u001b[0;31mKeyboardInterrupt\u001b[0m                         Traceback (most recent call last)",
      "\u001b[0;32m<ipython-input-177-30646b74624a>\u001b[0m in \u001b[0;36m<module>\u001b[0;34m()\u001b[0m\n\u001b[0;32m----> 1\u001b[0;31m \u001b[0mmodel\u001b[0m\u001b[0;34m.\u001b[0m\u001b[0mfit_generator\u001b[0m\u001b[0;34m(\u001b[0m\u001b[0mgenerator\u001b[0m\u001b[0;34m(\u001b[0m\u001b[0mtrain_data\u001b[0m\u001b[0;34m)\u001b[0m\u001b[0;34m,\u001b[0m \u001b[0;36m128\u001b[0m\u001b[0;34m,\u001b[0m \u001b[0;36m128\u001b[0m\u001b[0;34m)\u001b[0m\u001b[0;34m\u001b[0m\u001b[0m\n\u001b[0m",
      "\u001b[0;32m/usr/local/lib/python3.5/dist-packages/keras/legacy/interfaces.py\u001b[0m in \u001b[0;36mwrapper\u001b[0;34m(*args, **kwargs)\u001b[0m\n\u001b[1;32m     85\u001b[0m                 warnings.warn('Update your `' + object_name +\n\u001b[1;32m     86\u001b[0m                               '` call to the Keras 2 API: ' + signature, stacklevel=2)\n\u001b[0;32m---> 87\u001b[0;31m             \u001b[0;32mreturn\u001b[0m \u001b[0mfunc\u001b[0m\u001b[0;34m(\u001b[0m\u001b[0;34m*\u001b[0m\u001b[0margs\u001b[0m\u001b[0;34m,\u001b[0m \u001b[0;34m**\u001b[0m\u001b[0mkwargs\u001b[0m\u001b[0;34m)\u001b[0m\u001b[0;34m\u001b[0m\u001b[0m\n\u001b[0m\u001b[1;32m     88\u001b[0m         \u001b[0mwrapper\u001b[0m\u001b[0;34m.\u001b[0m\u001b[0m_original_function\u001b[0m \u001b[0;34m=\u001b[0m \u001b[0mfunc\u001b[0m\u001b[0;34m\u001b[0m\u001b[0m\n\u001b[1;32m     89\u001b[0m         \u001b[0;32mreturn\u001b[0m \u001b[0mwrapper\u001b[0m\u001b[0;34m\u001b[0m\u001b[0m\n",
      "\u001b[0;32m/usr/local/lib/python3.5/dist-packages/keras/engine/training.py\u001b[0m in \u001b[0;36mfit_generator\u001b[0;34m(self, generator, steps_per_epoch, epochs, verbose, callbacks, validation_data, validation_steps, class_weight, max_queue_size, workers, use_multiprocessing, initial_epoch)\u001b[0m\n\u001b[1;32m   1838\u001b[0m                     outs = self.train_on_batch(x, y,\n\u001b[1;32m   1839\u001b[0m                                                \u001b[0msample_weight\u001b[0m\u001b[0;34m=\u001b[0m\u001b[0msample_weight\u001b[0m\u001b[0;34m,\u001b[0m\u001b[0;34m\u001b[0m\u001b[0m\n\u001b[0;32m-> 1840\u001b[0;31m                                                class_weight=class_weight)\n\u001b[0m\u001b[1;32m   1841\u001b[0m \u001b[0;34m\u001b[0m\u001b[0m\n\u001b[1;32m   1842\u001b[0m                     \u001b[0;32mif\u001b[0m \u001b[0;32mnot\u001b[0m \u001b[0misinstance\u001b[0m\u001b[0;34m(\u001b[0m\u001b[0mouts\u001b[0m\u001b[0;34m,\u001b[0m \u001b[0mlist\u001b[0m\u001b[0;34m)\u001b[0m\u001b[0;34m:\u001b[0m\u001b[0;34m\u001b[0m\u001b[0m\n",
      "\u001b[0;32m/usr/local/lib/python3.5/dist-packages/keras/engine/training.py\u001b[0m in \u001b[0;36mtrain_on_batch\u001b[0;34m(self, x, y, sample_weight, class_weight)\u001b[0m\n\u001b[1;32m   1563\u001b[0m             \u001b[0mins\u001b[0m \u001b[0;34m=\u001b[0m \u001b[0mx\u001b[0m \u001b[0;34m+\u001b[0m \u001b[0my\u001b[0m \u001b[0;34m+\u001b[0m \u001b[0msample_weights\u001b[0m\u001b[0;34m\u001b[0m\u001b[0m\n\u001b[1;32m   1564\u001b[0m         \u001b[0mself\u001b[0m\u001b[0;34m.\u001b[0m\u001b[0m_make_train_function\u001b[0m\u001b[0;34m(\u001b[0m\u001b[0;34m)\u001b[0m\u001b[0;34m\u001b[0m\u001b[0m\n\u001b[0;32m-> 1565\u001b[0;31m         \u001b[0moutputs\u001b[0m \u001b[0;34m=\u001b[0m \u001b[0mself\u001b[0m\u001b[0;34m.\u001b[0m\u001b[0mtrain_function\u001b[0m\u001b[0;34m(\u001b[0m\u001b[0mins\u001b[0m\u001b[0;34m)\u001b[0m\u001b[0;34m\u001b[0m\u001b[0m\n\u001b[0m\u001b[1;32m   1566\u001b[0m         \u001b[0;32mif\u001b[0m \u001b[0mlen\u001b[0m\u001b[0;34m(\u001b[0m\u001b[0moutputs\u001b[0m\u001b[0;34m)\u001b[0m \u001b[0;34m==\u001b[0m \u001b[0;36m1\u001b[0m\u001b[0;34m:\u001b[0m\u001b[0;34m\u001b[0m\u001b[0m\n\u001b[1;32m   1567\u001b[0m             \u001b[0;32mreturn\u001b[0m \u001b[0moutputs\u001b[0m\u001b[0;34m[\u001b[0m\u001b[0;36m0\u001b[0m\u001b[0;34m]\u001b[0m\u001b[0;34m\u001b[0m\u001b[0m\n",
      "\u001b[0;32m/usr/local/lib/python3.5/dist-packages/keras/backend/tensorflow_backend.py\u001b[0m in \u001b[0;36m__call__\u001b[0;34m(self, inputs)\u001b[0m\n\u001b[1;32m   2266\u001b[0m         updated = session.run(self.outputs + [self.updates_op],\n\u001b[1;32m   2267\u001b[0m                               \u001b[0mfeed_dict\u001b[0m\u001b[0;34m=\u001b[0m\u001b[0mfeed_dict\u001b[0m\u001b[0;34m,\u001b[0m\u001b[0;34m\u001b[0m\u001b[0m\n\u001b[0;32m-> 2268\u001b[0;31m                               **self.session_kwargs)\n\u001b[0m\u001b[1;32m   2269\u001b[0m         \u001b[0;32mreturn\u001b[0m \u001b[0mupdated\u001b[0m\u001b[0;34m[\u001b[0m\u001b[0;34m:\u001b[0m\u001b[0mlen\u001b[0m\u001b[0;34m(\u001b[0m\u001b[0mself\u001b[0m\u001b[0;34m.\u001b[0m\u001b[0moutputs\u001b[0m\u001b[0;34m)\u001b[0m\u001b[0;34m]\u001b[0m\u001b[0;34m\u001b[0m\u001b[0m\n\u001b[1;32m   2270\u001b[0m \u001b[0;34m\u001b[0m\u001b[0m\n",
      "\u001b[0;32m/usr/local/lib/python3.5/dist-packages/tensorflow/python/client/session.py\u001b[0m in \u001b[0;36mrun\u001b[0;34m(self, fetches, feed_dict, options, run_metadata)\u001b[0m\n\u001b[1;32m    787\u001b[0m     \u001b[0;32mtry\u001b[0m\u001b[0;34m:\u001b[0m\u001b[0;34m\u001b[0m\u001b[0m\n\u001b[1;32m    788\u001b[0m       result = self._run(None, fetches, feed_dict, options_ptr,\n\u001b[0;32m--> 789\u001b[0;31m                          run_metadata_ptr)\n\u001b[0m\u001b[1;32m    790\u001b[0m       \u001b[0;32mif\u001b[0m \u001b[0mrun_metadata\u001b[0m\u001b[0;34m:\u001b[0m\u001b[0;34m\u001b[0m\u001b[0m\n\u001b[1;32m    791\u001b[0m         \u001b[0mproto_data\u001b[0m \u001b[0;34m=\u001b[0m \u001b[0mtf_session\u001b[0m\u001b[0;34m.\u001b[0m\u001b[0mTF_GetBuffer\u001b[0m\u001b[0;34m(\u001b[0m\u001b[0mrun_metadata_ptr\u001b[0m\u001b[0;34m)\u001b[0m\u001b[0;34m\u001b[0m\u001b[0m\n",
      "\u001b[0;32m/usr/local/lib/python3.5/dist-packages/tensorflow/python/client/session.py\u001b[0m in \u001b[0;36m_run\u001b[0;34m(self, handle, fetches, feed_dict, options, run_metadata)\u001b[0m\n\u001b[1;32m    995\u001b[0m     \u001b[0;32mif\u001b[0m \u001b[0mfinal_fetches\u001b[0m \u001b[0;32mor\u001b[0m \u001b[0mfinal_targets\u001b[0m\u001b[0;34m:\u001b[0m\u001b[0;34m\u001b[0m\u001b[0m\n\u001b[1;32m    996\u001b[0m       results = self._do_run(handle, final_targets, final_fetches,\n\u001b[0;32m--> 997\u001b[0;31m                              feed_dict_string, options, run_metadata)\n\u001b[0m\u001b[1;32m    998\u001b[0m     \u001b[0;32melse\u001b[0m\u001b[0;34m:\u001b[0m\u001b[0;34m\u001b[0m\u001b[0m\n\u001b[1;32m    999\u001b[0m       \u001b[0mresults\u001b[0m \u001b[0;34m=\u001b[0m \u001b[0;34m[\u001b[0m\u001b[0;34m]\u001b[0m\u001b[0;34m\u001b[0m\u001b[0m\n",
      "\u001b[0;32m/usr/local/lib/python3.5/dist-packages/tensorflow/python/client/session.py\u001b[0m in \u001b[0;36m_do_run\u001b[0;34m(self, handle, target_list, fetch_list, feed_dict, options, run_metadata)\u001b[0m\n\u001b[1;32m   1130\u001b[0m     \u001b[0;32mif\u001b[0m \u001b[0mhandle\u001b[0m \u001b[0;32mis\u001b[0m \u001b[0;32mNone\u001b[0m\u001b[0;34m:\u001b[0m\u001b[0;34m\u001b[0m\u001b[0m\n\u001b[1;32m   1131\u001b[0m       return self._do_call(_run_fn, self._session, feed_dict, fetch_list,\n\u001b[0;32m-> 1132\u001b[0;31m                            target_list, options, run_metadata)\n\u001b[0m\u001b[1;32m   1133\u001b[0m     \u001b[0;32melse\u001b[0m\u001b[0;34m:\u001b[0m\u001b[0;34m\u001b[0m\u001b[0m\n\u001b[1;32m   1134\u001b[0m       return self._do_call(_prun_fn, self._session, handle, feed_dict,\n",
      "\u001b[0;32m/usr/local/lib/python3.5/dist-packages/tensorflow/python/client/session.py\u001b[0m in \u001b[0;36m_do_call\u001b[0;34m(self, fn, *args)\u001b[0m\n\u001b[1;32m   1137\u001b[0m   \u001b[0;32mdef\u001b[0m \u001b[0m_do_call\u001b[0m\u001b[0;34m(\u001b[0m\u001b[0mself\u001b[0m\u001b[0;34m,\u001b[0m \u001b[0mfn\u001b[0m\u001b[0;34m,\u001b[0m \u001b[0;34m*\u001b[0m\u001b[0margs\u001b[0m\u001b[0;34m)\u001b[0m\u001b[0;34m:\u001b[0m\u001b[0;34m\u001b[0m\u001b[0m\n\u001b[1;32m   1138\u001b[0m     \u001b[0;32mtry\u001b[0m\u001b[0;34m:\u001b[0m\u001b[0;34m\u001b[0m\u001b[0m\n\u001b[0;32m-> 1139\u001b[0;31m       \u001b[0;32mreturn\u001b[0m \u001b[0mfn\u001b[0m\u001b[0;34m(\u001b[0m\u001b[0;34m*\u001b[0m\u001b[0margs\u001b[0m\u001b[0;34m)\u001b[0m\u001b[0;34m\u001b[0m\u001b[0m\n\u001b[0m\u001b[1;32m   1140\u001b[0m     \u001b[0;32mexcept\u001b[0m \u001b[0merrors\u001b[0m\u001b[0;34m.\u001b[0m\u001b[0mOpError\u001b[0m \u001b[0;32mas\u001b[0m \u001b[0me\u001b[0m\u001b[0;34m:\u001b[0m\u001b[0;34m\u001b[0m\u001b[0m\n\u001b[1;32m   1141\u001b[0m       \u001b[0mmessage\u001b[0m \u001b[0;34m=\u001b[0m \u001b[0mcompat\u001b[0m\u001b[0;34m.\u001b[0m\u001b[0mas_text\u001b[0m\u001b[0;34m(\u001b[0m\u001b[0me\u001b[0m\u001b[0;34m.\u001b[0m\u001b[0mmessage\u001b[0m\u001b[0;34m)\u001b[0m\u001b[0;34m\u001b[0m\u001b[0m\n",
      "\u001b[0;32m/usr/local/lib/python3.5/dist-packages/tensorflow/python/client/session.py\u001b[0m in \u001b[0;36m_run_fn\u001b[0;34m(session, feed_dict, fetch_list, target_list, options, run_metadata)\u001b[0m\n\u001b[1;32m   1119\u001b[0m         return tf_session.TF_Run(session, options,\n\u001b[1;32m   1120\u001b[0m                                  \u001b[0mfeed_dict\u001b[0m\u001b[0;34m,\u001b[0m \u001b[0mfetch_list\u001b[0m\u001b[0;34m,\u001b[0m \u001b[0mtarget_list\u001b[0m\u001b[0;34m,\u001b[0m\u001b[0;34m\u001b[0m\u001b[0m\n\u001b[0;32m-> 1121\u001b[0;31m                                  status, run_metadata)\n\u001b[0m\u001b[1;32m   1122\u001b[0m \u001b[0;34m\u001b[0m\u001b[0m\n\u001b[1;32m   1123\u001b[0m     \u001b[0;32mdef\u001b[0m \u001b[0m_prun_fn\u001b[0m\u001b[0;34m(\u001b[0m\u001b[0msession\u001b[0m\u001b[0;34m,\u001b[0m \u001b[0mhandle\u001b[0m\u001b[0;34m,\u001b[0m \u001b[0mfeed_dict\u001b[0m\u001b[0;34m,\u001b[0m \u001b[0mfetch_list\u001b[0m\u001b[0;34m)\u001b[0m\u001b[0;34m:\u001b[0m\u001b[0;34m\u001b[0m\u001b[0m\n",
      "\u001b[0;31mKeyboardInterrupt\u001b[0m: "
     ]
    }
   ],
   "source": [
    "model.fit_generator(generator(train_data), 128, 128)"
   ]
  },
  {
   "cell_type": "code",
   "execution_count": 180,
   "metadata": {},
   "outputs": [
    {
     "data": {
      "text/plain": [
       "array([[1, 0, 1, 0, 0, 0, 1, 0, 0, 1, 0, 0, 0, 1, 0, 0, 0, 0, 1, 0, 0, 0,\n",
       "        0, 0, 0, 0, 0, 0, 0, 0, 0, 0, 0, 0, 0, 0, 0, 0, 1, 1, 0, 0, 1, 0,\n",
       "        0, 0, 0, 0, 0, 0, 0, 0, 0, 0, 0, 0, 0, 0, 0, 0, 0]])"
      ]
     },
     "execution_count": 180,
     "metadata": {},
     "output_type": "execute_result"
    }
   ],
   "source": [
    "numpy.round(model.predict(train_data[0][2])).astype(int)"
   ]
  },
  {
   "cell_type": "code",
   "execution_count": 181,
   "metadata": {},
   "outputs": [
    {
     "name": "stdout",
     "output_type": "stream",
     "text": [
      "_________________________________________________________________\n",
      "Layer (type)                 Output Shape              Param #   \n",
      "=================================================================\n",
      "input_19 (InputLayer)        (None, None, 61)          0         \n",
      "_________________________________________________________________\n",
      "bidirectional_25 (Bidirectio (None, None, 256)         194560    \n",
      "_________________________________________________________________\n",
      "dropout_23 (Dropout)         (None, None, 256)         0         \n",
      "_________________________________________________________________\n",
      "bidirectional_26 (Bidirectio (None, 256)               394240    \n",
      "_________________________________________________________________\n",
      "dropout_24 (Dropout)         (None, 256)               0         \n",
      "=================================================================\n",
      "Total params: 588,800\n",
      "Trainable params: 588,800\n",
      "Non-trainable params: 0\n",
      "_________________________________________________________________\n"
     ]
    }
   ],
   "source": [
    "input_layer2 = Input((None, input_size))\n",
    "x2 = Bidirectional(LSTM(128, return_sequences=True, weights=model.layers[1].get_weights()))(input_layer2)\n",
    "x2 = Dropout(0.5)(x2)\n",
    "x2 = Bidirectional(LSTM(128, return_sequences=False, weights=model.layers[3].get_weights()))(x2)\n",
    "output_layer2 = Dropout(0.5)(x2)\n",
    "model2 = Model(input_layer2, output_layer2)\n",
    "model2.compile(optimizer=Adam(lr=0.0001), loss='binary_crossentropy', metrics=['accuracy'])\n",
    "model2.summary()"
   ]
  },
  {
   "cell_type": "code",
   "execution_count": 201,
   "metadata": {},
   "outputs": [],
   "source": [
    "import matplotlib.pyplot as plt"
   ]
  },
  {
   "cell_type": "code",
   "execution_count": 202,
   "metadata": {},
   "outputs": [
    {
     "data": {
      "text/plain": [
       "<matplotlib.image.AxesImage at 0x7f15e720d160>"
      ]
     },
     "execution_count": 202,
     "metadata": {},
     "output_type": "execute_result"
    },
    {
     "data": {
      "image/png": "[encoded data removed]",
      "text/plain": [
       "<matplotlib.figure.Figure at 0x7f15e725b6a0>"
      ]
     },
     "metadata": {},
     "output_type": "display_data"
    }
   ],
   "source": [
    "plt.figure(figsize=(100, 100))\n",
    "skimage.io.imshow(model2.predict(train_data[0][6]))"
   ]
  },
  {
   "cell_type": "code",
   "execution_count": 226,
   "metadata": {},
   "outputs": [
    {
     "data": {
      "text/plain": [
       "<matplotlib.image.AxesImage at 0x7f15e39f77f0>"
      ]
     },
     "execution_count": 226,
     "metadata": {},
     "output_type": "execute_result"
    },
    {
     "data": {
      "image/png": "[encoded data removed]",
      "text/plain": [
       "<matplotlib.figure.Figure at 0x7f15e3a956a0>"
      ]
     },
     "metadata": {},
     "output_type": "display_data"
    }
   ],
   "source": [
    "plt.figure(figsize=(20, 4))\n",
    "skimage.io.imshow(model2.predict(train_data[0][2]), aspect='auto')"
   ]
  },
  {
   "cell_type": "code",
   "execution_count": 228,
   "metadata": {},
   "outputs": [
    {
     "data": {
      "text/plain": [
       "<matplotlib.image.AxesImage at 0x7f15e3887780>"
      ]
     },
     "execution_count": 228,
     "metadata": {},
     "output_type": "execute_result"
    },
    {
     "data": {
      "image/png": "[encoded data removed]",
      "text/plain": [
       "<matplotlib.figure.Figure at 0x7f15e3917c50>"
      ]
     },
     "metadata": {},
     "output_type": "display_data"
    }
   ],
   "source": [
    "plt.figure(figsize=(20, 4))\n",
    "skimage.io.imshow(model2.predict(train_data[0][3]), aspect='auto')"
   ]
  },
  {
   "cell_type": "code",
   "execution_count": null,
   "metadata": {},
   "outputs": [],
   "source": []
  }
 ],
 "metadata": {
  "kernelspec": {
   "display_name": "Python 3",
   "language": "python",
   "name": "python3"
  },
  "language_info": {
   "codemirror_mode": {
    "name": "ipython",
    "version": 3
   },
   "file_extension": ".py",
   "mimetype": "text/x-python",
   "name": "python",
   "nbconvert_exporter": "python",
   "pygments_lexer": "ipython3",
   "version": "3.5.3"
  }
 },
 "nbformat": 4,
 "nbformat_minor": 2
}
