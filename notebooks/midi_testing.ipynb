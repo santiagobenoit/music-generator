{
 "cells": [
  {
   "cell_type": "code",
   "execution_count": null,
   "metadata": {},
   "outputs": [],
   "source": [
    "import glob\n",
    "from multiprocessing.dummy import Pool as ThreadPool\n",
    "import os\n",
    "import random\n",
    "\n",
    "import mido\n",
    "from mido import Message, MetaMessage, MidiFile, MidiTrack\n",
    "import numpy\n",
    "import sklearn.utils\n",
    "import tqdm"
   ]
  },
  {
   "cell_type": "code",
   "execution_count": null,
   "metadata": {},
   "outputs": [],
   "source": [
    "numpy.set_printoptions(threshold=numpy.nan)"
   ]
  },
  {
   "cell_type": "code",
   "execution_count": null,
   "metadata": {},
   "outputs": [],
   "source": [
    "random.seed(0)\n",
    "numpy.random.seed(0)"
   ]
  },
  {
   "cell_type": "code",
   "execution_count": null,
   "metadata": {},
   "outputs": [],
   "source": [
    "# midi = MidiFile()\n",
    "# track = MidiTrack()\n",
    "# midi.tracks.append(track)\n",
    "# track.append(Message('note_on', note=50, velocity=100, time=0))\n",
    "# track.append(Message('note_off', note=50, velocity=100, time=960))\n",
    "# track.append(Message('note_on', note=51, velocity=100, time=0))\n",
    "# track.append(Message('note_off', note=51, velocity=100, time=960))\n",
    "# track.append(Message('note_on', note=52, velocity=100, time=0))\n",
    "# track.append(Message('note_off', note=52, velocity=100, time=960))\n",
    "# midi.save('/home/santiago/Projects/ProjectEuterpe/data/test/test1.mid')\n",
    "# #midi.ticks_per_beat"
   ]
  },
  {
   "cell_type": "code",
   "execution_count": null,
   "metadata": {},
   "outputs": [],
   "source": [
    "midi_dir = '/home/santiago/Projects/ProjectEuterpe/data/midi/classical/'"
   ]
  },
  {
   "cell_type": "code",
   "execution_count": null,
   "metadata": {},
   "outputs": [],
   "source": [
    "files = sorted(glob.glob(os.path.join(midi_dir, '*.mid')) + glob.glob(os.path.join(midi_dir, '*.midi')))"
   ]
  },
  {
   "cell_type": "code",
   "execution_count": null,
   "metadata": {},
   "outputs": [],
   "source": [
    "len(files)"
   ]
  },
  {
   "cell_type": "code",
   "execution_count": null,
   "metadata": {},
   "outputs": [],
   "source": [
    "#files"
   ]
  },
  {
   "cell_type": "code",
   "execution_count": null,
   "metadata": {},
   "outputs": [],
   "source": [
    "# midis = []\n",
    "# for file in files:\n",
    "#     try:\n",
    "#         midis.append(MidiFile(file))\n",
    "#     except:\n",
    "#         print(file)"
   ]
  },
  {
   "cell_type": "code",
   "execution_count": null,
   "metadata": {},
   "outputs": [],
   "source": []
  },
  {
   "cell_type": "code",
   "execution_count": null,
   "metadata": {},
   "outputs": [],
   "source": []
  },
  {
   "cell_type": "code",
   "execution_count": null,
   "metadata": {},
   "outputs": [],
   "source": [
    "INPUT_WIDTH = 1 + 8 + 8 + 16\n",
    "LOOKBACK = 128\n",
    "DEFAULT_TICKS = 480\n",
    "DEFAULT_TEMPO = 500000\n",
    "CORES = 4"
   ]
  },
  {
   "cell_type": "code",
   "execution_count": null,
   "metadata": {},
   "outputs": [],
   "source": [
    "def filter_files(midi_files):\n",
    "    keep = []\n",
    "    for file in midi_files:\n",
    "        try:\n",
    "            midi = MidiFile(file)\n",
    "            if len(midi.tracks) == 1:\n",
    "                keep.append(file)\n",
    "        except (KeyboardInterrupt, SystemExit):\n",
    "            raise\n",
    "        except:\n",
    "            pass\n",
    "    return sorted(keep)"
   ]
  },
  {
   "cell_type": "code",
   "execution_count": null,
   "metadata": {},
   "outputs": [],
   "source": [
    "filtered = filter_files(files)"
   ]
  },
  {
   "cell_type": "code",
   "execution_count": null,
   "metadata": {},
   "outputs": [],
   "source": [
    "len(filtered)"
   ]
  },
  {
   "cell_type": "code",
   "execution_count": null,
   "metadata": {},
   "outputs": [],
   "source": [
    "# def load_midi(midi_file):\n",
    "#     data = []\n",
    "#     midi = mido.MidiFile(midi_file)\n",
    "#     print(midi.ticks_per_beat)\n",
    "#     for track in midi.tracks:\n",
    "#         track_data = []\n",
    "#         for message in track:\n",
    "#             if message.type in ['note_on', 'note_off']:\n",
    "#                 track_data.append([1 if message.type == 'note_on' else 0, message.note, message.velocity, int(message.time * 4 * DEFAULT_TICKS / midi.ticks_per_beat)])\n",
    "#         if track_data:\n",
    "#             data.append(track_data)\n",
    "#     assert data\n",
    "#     return data"
   ]
  },
  {
   "cell_type": "code",
   "execution_count": null,
   "metadata": {},
   "outputs": [],
   "source": [
    "def load_midi(midi_file):\n",
    "    data = []\n",
    "    midi = mido.MidiFile(midi_file)\n",
    "    assert len(midi.tracks) == 1\n",
    "    for message in midi.tracks[0]:\n",
    "        if message.type in ['note_on', 'note_off']:\n",
    "            data.append([1 if message.type == 'note_on' else 0, message.note, message.velocity, int(message.time * DEFAULT_TICKS / midi.ticks_per_beat)])\n",
    "    assert data\n",
    "    return numpy.array(data, dtype=numpy.uint8)"
   ]
  },
  {
   "cell_type": "code",
   "execution_count": null,
   "metadata": {},
   "outputs": [],
   "source": [
    "# def merge_tracks(data):\n",
    "#     pass"
   ]
  },
  {
   "cell_type": "code",
   "execution_count": null,
   "metadata": {},
   "outputs": [],
   "source": [
    "# def augment(data):\n",
    "#     augmented = []\n",
    "#     events = len(data)\n",
    "#     maximum = data.max(axis=0)[1]\n",
    "#     minimum = data.min(axis=0)[1]\n",
    "#     transpositions = 128 - (maximum - minimum)\n",
    "#     for i in range(transpositions):\n",
    "#         sequence = numpy.copy(data)\n",
    "#         for j in range(events):\n",
    "#             sequence[j, 1] = data[j, 1] - minimum + i\n",
    "#         augmented.append(sequence)\n",
    "#     return augmented"
   ]
  },
  {
   "cell_type": "code",
   "execution_count": null,
   "metadata": {},
   "outputs": [],
   "source": [
    "def augment(data):\n",
    "    augmented = []\n",
    "    events = len(data)\n",
    "    maximum = data.max(axis=0)[1]\n",
    "    minimum = data.min(axis=0)[1]\n",
    "    transpositions = 128 - (maximum - minimum)\n",
    "    for i in range(transpositions):\n",
    "        sequence = numpy.copy(data)\n",
    "        for j in range(events):\n",
    "            sequence[j, 1] = data[j, 1] - minimum + i\n",
    "        augmented.append(sequence)\n",
    "    return augmented"
   ]
  },
  {
   "cell_type": "code",
   "execution_count": null,
   "metadata": {},
   "outputs": [],
   "source": [
    "def encode(data):\n",
    "    encoded = []\n",
    "    for sequence in data:\n",
    "        encoded_sequence = numpy.zeros((len(sequence), INPUT_WIDTH), dtype=numpy.uint8)\n",
    "        for i, event in enumerate(sequence):\n",
    "            encoded_sequence[i, 0] = event[0]\n",
    "            encoded_sequence[i, 1:9] = [int(x) for x in format(event[1], '08b')]\n",
    "            encoded_sequence[i, 9:17] = [int(x) for x in format(event[2], '08b')]\n",
    "            encoded_sequence[i, 17:] = [int(x) for x in format(event[3], '016b')]\n",
    "        encoded.append(encoded_sequence)\n",
    "    return encoded"
   ]
  },
  {
   "cell_type": "code",
   "execution_count": null,
   "metadata": {},
   "outputs": [],
   "source": [
    "def prepare(data):\n",
    "    X = []\n",
    "    Y = []\n",
    "    for sequence in data:\n",
    "        for i in range(len(sequence)):\n",
    "            if i == 0:\n",
    "                segment = numpy.zeros((1, INPUT_WIDTH), dtype=numpy.uint8)\n",
    "            else:\n",
    "                segment = sequence[max(i - LOOKBACK, 0):i, :]\n",
    "            if len(segment) < LOOKBACK:\n",
    "                pad = LOOKBACK - len(segment)\n",
    "                segment = numpy.pad(segment, [(pad, 0), (0, 0)], mode='constant')\n",
    "            #prepared.append((X, sequence[i, :]))\n",
    "            X.append(segment)\n",
    "            Y.append(sequence[i, :])\n",
    "    X = numpy.array(X, dtype=numpy.uint8)\n",
    "    Y = numpy.array(Y, dtype=numpy.uint8)\n",
    "    return X, Y"
   ]
  },
  {
   "cell_type": "code",
   "execution_count": null,
   "metadata": {},
   "outputs": [],
   "source": [
    "# def load_all(midi_dir, track_name):\n",
    "#     X = []\n",
    "#     Y = []\n",
    "#     midi_files = sorted(glob.glob(os.path.join(midi_dir, '*.mid')) + glob.glob(os.path.join(midi_dir, '*.midi')))\n",
    "#     for midi_file in midi_files:\n",
    "#         try:\n",
    "#             data = prepare(encode(augment(load_midi(midi_file, track_name))))\n",
    "#             X.extend(data[0])\n",
    "#             Y.extend(data[1])\n",
    "#         except (KeyboardInterrupt, SystemExit):\n",
    "#             raise\n",
    "#         except:\n",
    "#             print(\"Skipping\", midi_file)\n",
    "#     #random.shuffle(all_data)\n",
    "#     X = numpy.array(X)\n",
    "#     Y = numpy.array(Y)\n",
    "#     return X, Y"
   ]
  },
  {
   "cell_type": "code",
   "execution_count": null,
   "metadata": {},
   "outputs": [],
   "source": [
    "def load_all(midi_files):\n",
    "    X = []\n",
    "    Y = []\n",
    "    #midi_files = sorted(glob.glob(os.path.join(midi_dir, '*.mid')) + glob.glob(os.path.join(midi_dir, '*.midi')))\n",
    "    for i, midi_file in enumerate(midi_files):\n",
    "#        try:\n",
    "        data = prepare(encode([load_midi(midi_file)]))\n",
    "        X.extend(data[0])\n",
    "        Y.extend(data[1])\n",
    "#         except (KeyboardInterrupt, SystemExit):\n",
    "#             raise\n",
    "#         except:\n",
    "#             print(\"Skipping\", midi_file)\n",
    "#        print(i / len(midi_files))\n",
    "    #random.shuffle(all_data)\n",
    "    X = numpy.array(X, dtype=numpy.uint8)\n",
    "    Y = numpy.array(Y, dtype=numpy.uint8)\n",
    "    return X, Y"
   ]
  },
  {
   "cell_type": "code",
   "execution_count": null,
   "metadata": {},
   "outputs": [],
   "source": [
    "# data = load_midi('/home/santiago/Projects/ProjectEuterpe/data/midi/classical/bali.mid')"
   ]
  },
  {
   "cell_type": "code",
   "execution_count": null,
   "metadata": {},
   "outputs": [],
   "source": [
    "# data"
   ]
  },
  {
   "cell_type": "code",
   "execution_count": null,
   "metadata": {},
   "outputs": [],
   "source": [
    "# new_midi = MidiFile()\n",
    "# for track in data:\n",
    "#     new_track = MidiTrack()\n",
    "#     new_midi.tracks.append(new_track)\n",
    "#     for event in track:\n",
    "#         new_track.append(Message('note_on' if event[0] == 1 else 'note_off', note=event[1], velocity=event[2], time=event[3]))"
   ]
  },
  {
   "cell_type": "code",
   "execution_count": null,
   "metadata": {},
   "outputs": [],
   "source": []
  },
  {
   "cell_type": "code",
   "execution_count": null,
   "metadata": {},
   "outputs": [],
   "source": [
    "# new_midi.save('/home/santiago/test.mid')"
   ]
  },
  {
   "cell_type": "code",
   "execution_count": null,
   "metadata": {},
   "outputs": [],
   "source": []
  },
  {
   "cell_type": "code",
   "execution_count": null,
   "metadata": {},
   "outputs": [],
   "source": []
  },
  {
   "cell_type": "code",
   "execution_count": null,
   "metadata": {},
   "outputs": [],
   "source": [
    "# new_midis = []\n",
    "# for midi in midis:\n",
    "#     if len(midi.tracks) == 1:\n",
    "#         new_midis.append(midi)"
   ]
  },
  {
   "cell_type": "code",
   "execution_count": null,
   "metadata": {},
   "outputs": [],
   "source": [
    "# new_midis"
   ]
  },
  {
   "cell_type": "code",
   "execution_count": null,
   "metadata": {},
   "outputs": [],
   "source": [
    "# loaded = []\n",
    "# for midi in new_midis:\n",
    "#     loaded.append(load_midi(midi.filename))"
   ]
  },
  {
   "cell_type": "code",
   "execution_count": null,
   "metadata": {},
   "outputs": [],
   "source": [
    "# filenames = sorted(list(map(lambda midi: midi.filename, new_midis)))"
   ]
  },
  {
   "cell_type": "code",
   "execution_count": null,
   "metadata": {},
   "outputs": [],
   "source": [
    "# filenames"
   ]
  },
  {
   "cell_type": "code",
   "execution_count": null,
   "metadata": {},
   "outputs": [],
   "source": [
    "filtered"
   ]
  },
  {
   "cell_type": "code",
   "execution_count": null,
   "metadata": {},
   "outputs": [],
   "source": [
    "# pool = ThreadPool(CORES)\n",
    "# data = pool.map(load_all, filtered)\n",
    "# pool.close() \n",
    "# pool.join()\n",
    "data = load_all(filtered)"
   ]
  },
  {
   "cell_type": "code",
   "execution_count": null,
   "metadata": {},
   "outputs": [],
   "source": [
    "data[0].shape, data[0].dtype, data[1].shape, data[1].dtype"
   ]
  },
  {
   "cell_type": "code",
   "execution_count": null,
   "metadata": {},
   "outputs": [],
   "source": [
    "#del data"
   ]
  },
  {
   "cell_type": "code",
   "execution_count": null,
   "metadata": {},
   "outputs": [],
   "source": [
    "def bits_to_int(bits):\n",
    "    out = 0\n",
    "    for bit in bits:\n",
    "        out = (out << 1) | bit\n",
    "    return out"
   ]
  },
  {
   "cell_type": "code",
   "execution_count": null,
   "metadata": {},
   "outputs": [],
   "source": [
    "def generator(X, Y, batch_size=32, augment=False, shuffle=True, random_seed=0):\n",
    "    assert len(X) == len(Y)\n",
    "    while True:\n",
    "#         if augment: # unfinished\n",
    "#             for i in tqdm.tqdm(range(len(X))):\n",
    "#                 note_offset = random.randrange(-6, 7)\n",
    "#                 time_multiplier = 2 ** random.uniform(-1, 1)\n",
    "#                 for event in X[i, :, :]:\n",
    "#                     if numpy.any(event):\n",
    "#                         event[1:9] = [int(x) for x in format(bits_to_int(event[1:9]) + note_offset, '08b')]\n",
    "#                         event[17:] = [int(x) for x in format(int(round(bits_to_int(event[17:]) * time_multiplier)), '016b')]\n",
    "        if shuffle:\n",
    "            X, Y = sklearn.utils.shuffle(X, Y, random_state=random_seed)\n",
    "#             p = numpy.random.permutation(len(X))\n",
    "#             X, Y = X[p], Y[p]\n",
    "#             del p\n",
    "        for i in range(0, len(X), batch_size):\n",
    "            yield X[i:i + batch_size, :, :], Y[i:i + batch_size, :]"
   ]
  },
  {
   "cell_type": "code",
   "execution_count": null,
   "metadata": {},
   "outputs": [],
   "source": [
    "gen = generator(data[0], data[1], batch_size=256)"
   ]
  },
  {
   "cell_type": "code",
   "execution_count": null,
   "metadata": {},
   "outputs": [],
   "source": [
    "n = next(gen)"
   ]
  },
  {
   "cell_type": "code",
   "execution_count": null,
   "metadata": {},
   "outputs": [],
   "source": []
  },
  {
   "cell_type": "code",
   "execution_count": null,
   "metadata": {},
   "outputs": [],
   "source": []
  },
  {
   "cell_type": "code",
   "execution_count": null,
   "metadata": {},
   "outputs": [],
   "source": [
    "def to_midi(data):\n",
    "    midi = MidiFile()\n",
    "    track = MidiTrack()\n",
    "    midi.tracks.append(track)\n",
    "    #track.append(MetaMessage('set_tempo', tempo=500000, time=0))\n",
    "    for event in data:\n",
    "        onoff = 'note_on' if event[0] == 1 else 'note_off'\n",
    "        note = bits_to_int(event[1:9])\n",
    "        velocity = bits_to_int(event[9:17])\n",
    "        time = bits_to_int(event[17:])\n",
    "        track.append(Message(onoff, note=note, velocity=velocity, time=time))\n",
    "    return midi"
   ]
  },
  {
   "cell_type": "code",
   "execution_count": null,
   "metadata": {},
   "outputs": [],
   "source": [
    "midi = to_midi(data[1])"
   ]
  },
  {
   "cell_type": "code",
   "execution_count": null,
   "metadata": {},
   "outputs": [],
   "source": [
    "midi.save('/home/santiago/Projects/ProjectEuterpe/data/midi/all_classical.mid')"
   ]
  },
  {
   "cell_type": "code",
   "execution_count": null,
   "metadata": {},
   "outputs": [],
   "source": []
  }
 ],
 "metadata": {
  "kernelspec": {
   "display_name": "Python 3",
   "language": "python",
   "name": "python3"
  },
  "language_info": {
   "codemirror_mode": {
    "name": "ipython",
    "version": 3
   },
   "file_extension": ".py",
   "mimetype": "text/x-python",
   "name": "python",
   "nbconvert_exporter": "python",
   "pygments_lexer": "ipython3",
   "version": "3.6.3"
  }
 },
 "nbformat": 4,
 "nbformat_minor": 2
}
