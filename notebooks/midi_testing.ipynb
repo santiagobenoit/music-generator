{
 "cells": [
  {
   "cell_type": "code",
   "execution_count": 2,
   "metadata": {},
   "outputs": [],
   "source": [
    "import mido\n",
    "from mido import Message, MetaMessage, MidiFile, MidiTrack"
   ]
  },
  {
   "cell_type": "code",
   "execution_count": 9,
   "metadata": {},
   "outputs": [],
   "source": [
    "midi = MidiFile()\n",
    "track = MidiTrack()\n",
    "midi.tracks.append(track)\n",
    "track.append(Message('note_on', note=50, velocity=100, time=0))\n",
    "track.append(Message('note_off', note=50, velocity=100, time=960))\n",
    "track.append(Message('note_on', note=51, velocity=100, time=0))\n",
    "track.append(Message('note_off', note=51, velocity=100, time=960))\n",
    "track.append(Message('note_on', note=52, velocity=100, time=0))\n",
    "track.append(Message('note_off', note=52, velocity=100, time=960))\n",
    "midi.save('/home/santiago/Projects/ProjectEuterpe/data/test/test1.mid')\n",
    "#midi.ticks_per_beat"
   ]
  },
  {
   "cell_type": "code",
   "execution_count": null,
   "metadata": {},
   "outputs": [],
   "source": []
  }
 ],
 "metadata": {
  "kernelspec": {
   "display_name": "Python 3",
   "language": "python",
   "name": "python3"
  },
  "language_info": {
   "codemirror_mode": {
    "name": "ipython",
    "version": 3
   },
   "file_extension": ".py",
   "mimetype": "text/x-python",
   "name": "python",
   "nbconvert_exporter": "python",
   "pygments_lexer": "ipython3",
   "version": "3.6.3"
  }
 },
 "nbformat": 4,
 "nbformat_minor": 2
}
